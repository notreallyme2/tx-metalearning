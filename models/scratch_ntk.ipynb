{
 "cells": [
  {
   "cell_type": "code",
   "execution_count": 1,
   "metadata": {},
   "outputs": [],
   "source": [
    "import argparse\n",
    "from pathlib import Path\n",
    "import pandas as pd\n",
    "import os\n",
    "import math\n",
    "import numpy as np\n",
    "from random import shuffle\n",
    "import NTK\n",
    "\n",
    "from sklearn.model_selection import train_test_split\n",
    "from sklearn.svm import SVC"
   ]
  },
  {
   "cell_type": "code",
   "execution_count": 2,
   "metadata": {},
   "outputs": [],
   "source": [
    "DEFAULT_DATASET_PATH = Path(\"/users/lindsayedwards/data/pfizer_tx/tasks_all_clr/all_clr_train_LUAD_stage.h5\")\n",
    "keys = ['/expression', '/labels']\n",
    "test_data = {key : pd.read_hdf(DEFAULT_DATASET_PATH, key = key) for key in keys}"
   ]
  },
  {
   "cell_type": "code",
   "execution_count": 3,
   "metadata": {},
   "outputs": [
    {
     "output_type": "execute_result",
     "data": {
      "text/plain": "((542, 57992), (542,))"
     },
     "metadata": {},
     "execution_count": 3
    }
   ],
   "source": [
    "X_tx = test_data['/expression'].values\n",
    "Y_tx = test_data['/labels'].values\n",
    "X_tx.shape, Y_tx.shape"
   ]
  },
  {
   "cell_type": "code",
   "execution_count": 4,
   "metadata": {},
   "outputs": [],
   "source": [
    "MAX_DEPTH = 5 \n",
    "C_LIST = [10.0 ** i for i in range(-2, 5)] # hyperparameter for NTK\n",
    "n_classes = len(set(Y_tx)) # n classes\n",
    "n_features = X_tx.shape[1] # n features"
   ]
  },
  {
   "cell_type": "code",
   "execution_count": 5,
   "metadata": {},
   "outputs": [],
   "source": [
    "def svm(K1, K2, y1, y2, C, c):\n",
    "    n_val, n_train = K2.shape\n",
    "    clf = SVC(kernel = \"precomputed\", C = C, cache_size = 100000)\n",
    "    clf.fit(K1, y1)\n",
    "    z = clf.predict(K2)\n",
    "    return 1.0 * np.sum(z == y2) / n_val"
   ]
  },
  {
   "cell_type": "code",
   "execution_count": 6,
   "metadata": {},
   "outputs": [],
   "source": [
    "# X = np.random.randint(0, 200, size = [100, 58000])"
   ]
  },
  {
   "cell_type": "code",
   "execution_count": 7,
   "metadata": {},
   "outputs": [],
   "source": [
    "# calculate NTK\n",
    "Ks = NTK.kernel_value_batch(X_tx, MAX_DEPTH)"
   ]
  },
  {
   "cell_type": "code",
   "execution_count": 8,
   "metadata": {},
   "outputs": [],
   "source": [
    "idxs = [e for e in range(len(Y_tx))]\n",
    "shuffle(idxs)\n",
    "train_fold, val_fold = idxs[:350], idxs[350:]\n",
    "y = Y_tx"
   ]
  },
  {
   "cell_type": "markdown",
   "metadata": {},
   "source": [
    "I think train_fold and val_fold are indices for these folds of data"
   ]
  },
  {
   "cell_type": "code",
   "execution_count": 9,
   "metadata": {},
   "outputs": [
    {
     "output_type": "stream",
     "name": "stdout",
     "text": "best acc: 0.6145833333333334 \tC: 0.01 \tdepth: 3 \tfix: 0\n"
    }
   ],
   "source": [
    "# load training and validation set\n",
    "best_acc = 0.0\n",
    "best_value = 0\n",
    "best_depth = 0\n",
    "best_ker = 0\n",
    "\n",
    "# enumerate kernels and cost values to find the best hyperparameters\n",
    "for depth in range(MAX_DEPTH):\n",
    "    for fix_depth in range(depth + 1):\n",
    "        K = Ks[depth][fix_depth]\n",
    "        for c in C_LIST:\n",
    "            acc = svm(K[train_fold][:, train_fold], K[val_fold][:, train_fold], y[train_fold], y[val_fold], c, n_classes)\n",
    "            if acc > best_acc:\n",
    "                best_acc = acc\n",
    "                best_c = c\n",
    "                best_depth = depth\n",
    "                best_fix = fix_depth\n",
    "\n",
    "K = Ks[best_depth][best_fix]\n",
    "\n",
    "print (\"best acc:\", best_acc, \"\\tC:\", best_c, \"\\tdepth:\", best_depth, \"\\tfix:\", best_fix)"
   ]
  },
  {
   "cell_type": "code",
   "execution_count": 10,
   "metadata": {},
   "outputs": [
    {
     "output_type": "execute_result",
     "data": {
      "text/plain": "0.6145833333333334"
     },
     "metadata": {},
     "execution_count": 10
    }
   ],
   "source": [
    "svm(K[train_fold][:, train_fold], K[val_fold][:, train_fold], y[train_fold], y[val_fold], c, n_classes)"
   ]
  },
  {
   "cell_type": "code",
   "execution_count": null,
   "metadata": {},
   "outputs": [],
   "source": []
  }
 ],
 "metadata": {
  "language_info": {
   "codemirror_mode": {
    "name": "ipython",
    "version": 3
   },
   "file_extension": ".py",
   "mimetype": "text/x-python",
   "name": "python",
   "nbconvert_exporter": "python",
   "pygments_lexer": "ipython3",
   "version": "3.7.6-final"
  },
  "orig_nbformat": 2,
  "kernelspec": {
   "name": "python37664bit4cea8a40531a4d3c848911316c14ff34",
   "display_name": "Python 3.7.6 64-bit"
  }
 },
 "nbformat": 4,
 "nbformat_minor": 2
}