{
 "cells": [
  {
   "cell_type": "code",
   "execution_count": 58,
   "metadata": {},
   "outputs": [],
   "source": [
    "import argparse\n",
    "from pathlib import Path\n",
    "import pandas as pd\n",
    "import os\n",
    "import math\n",
    "import numpy as np\n",
    "from random import shuffle\n",
    "from NTK import kernel_value, kernel_value_batch\n",
    "from resampling import NestedCV, BaseModel\n",
    "from sklearn.model_selection import train_test_split\n",
    "from sklearn.metrics import roc_auc_score\n",
    "from sklearn.svm import SVC"
   ]
  },
  {
   "cell_type": "code",
   "execution_count": 40,
   "metadata": {},
   "outputs": [],
   "source": [
    "DEFAULT_DATASET_PATH = Path(\"/data/pfizer_tx/tasks_all_clr/all_clr_train_LUAD_stage.h5\")\n",
    "keys = ['/expression', '/labels']\n",
    "test_data = {key : pd.read_hdf(DEFAULT_DATASET_PATH, key = key) for key in keys}"
   ]
  },
  {
   "cell_type": "code",
   "execution_count": 41,
   "metadata": {},
   "outputs": [
    {
     "data": {
      "text/plain": [
       "((542, 57992), (542,))"
      ]
     },
     "execution_count": 41,
     "metadata": {},
     "output_type": "execute_result"
    }
   ],
   "source": [
    "X_tx = test_data['/expression'].values\n",
    "Y_tx = test_data['/labels'].values\n",
    "X_tx.shape, Y_tx.shape"
   ]
  },
  {
   "cell_type": "code",
   "execution_count": 51,
   "metadata": {},
   "outputs": [],
   "source": [
    "MAX_DEPTH = 5 \n",
    "C_LIST = [10.0 ** i for i in range(-2, 5)] # hyperparameter for NTK\n",
    "n_classes = len(set(Y_tx)) # n classes\n",
    "n_features = X_tx.shape[1] # n features"
   ]
  },
  {
   "cell_type": "code",
   "execution_count": 52,
   "metadata": {},
   "outputs": [],
   "source": [
    "def svm(K1, K2, y1, y2, C, c):\n",
    "    n_val, n_train = K2.shape\n",
    "    clf = SVC(kernel = \"precomputed\", C = C, cache_size = 100000, probability=True)\n",
    "    clf.fit(K1, y1)\n",
    "    y_hat = clf.predict_proba(K2)[:,1]\n",
    "    return roc_auc_score(y2, y_hat)"
   ]
  },
  {
   "cell_type": "code",
   "execution_count": 53,
   "metadata": {},
   "outputs": [],
   "source": [
    "# calculate NTK\n",
    "Ks = kernel_value_batch(X_tx, MAX_DEPTH)"
   ]
  },
  {
   "cell_type": "code",
   "execution_count": 54,
   "metadata": {},
   "outputs": [],
   "source": [
    "idxs = [e for e in range(len(Y_tx))]\n",
    "shuffle(idxs)\n",
    "train_fold, val_fold = idxs[:350], idxs[350:]\n",
    "y = Y_tx"
   ]
  },
  {
   "cell_type": "markdown",
   "metadata": {},
   "source": [
    "I think train_fold and val_fold are indices for these folds of data"
   ]
  },
  {
   "cell_type": "code",
   "execution_count": 68,
   "metadata": {},
   "outputs": [
    {
     "name": "stdout",
     "output_type": "stream",
     "text": [
      "best auc: 0.6926274944567627 \tC: 0.01 \tdepth: 24 \tfix: 21\n"
     ]
    }
   ],
   "source": [
    "# load training and validation set\n",
    "best_auc = 0.0\n",
    "best_value = 0\n",
    "best_depth = 0\n",
    "best_ker = 0\n",
    "\n",
    "# enumerate kernels and cost values to find the best hyperparameters\n",
    "for depth in range(MAX_DEPTH):\n",
    "    for fix_depth in range(depth + 1):\n",
    "        K = Ks[depth][fix_depth]\n",
    "        for c in C_LIST:\n",
    "            auc = svm(K[train_fold][:, train_fold], K[val_fold][:, train_fold], y[train_fold], y[val_fold], c, n_classes)\n",
    "            if auc > best_auc:\n",
    "                best_auc = auc\n",
    "                best_c = c\n",
    "                best_depth = depth\n",
    "                best_fix = fix_depth\n",
    "\n",
    "K = Ks[best_depth][best_fix]\n",
    "\n",
    "print (\"best auc:\", best_auc, \"\\tC:\", best_c, \"\\tdepth:\", best_depth, \"\\tfix:\", best_fix)"
   ]
  },
  {
   "cell_type": "code",
   "execution_count": 69,
   "metadata": {},
   "outputs": [
    {
     "data": {
      "text/plain": [
       "0.6720620842572063"
      ]
     },
     "execution_count": 69,
     "metadata": {},
     "output_type": "execute_result"
    }
   ],
   "source": [
    "svm(K[train_fold][:, train_fold], K[val_fold][:, train_fold], y[train_fold], y[val_fold], c, n_classes)"
   ]
  },
  {
   "cell_type": "code",
   "execution_count": 90,
   "metadata": {},
   "outputs": [],
   "source": [
    "class NTK(BaseModel):\n",
    "    def __init__(self, params):\n",
    "        super().__init__()\n",
    "        self.params = params\n",
    "    def fit(self, X, y):\n",
    "        Ks = kernel_value_batch(X, self.params['max_depth'])\n",
    "        self.best_auc = 0.0\n",
    "        self.best_depth = 0\n",
    "        self.best_fix = 0\n",
    "        self.clf = SVC(kernel = \"precomputed\", C = self.params['C'], cache_size = 100000, probability=True)\n",
    "        for depth in range(self.params['max_depth']):\n",
    "            for fix_depth in range(depth + 1):\n",
    "                K = Ks[depth][fix_depth]\n",
    "                self.clf.fit(K, y)\n",
    "                y_hat = self.clf.predict_proba(K)[:,1]\n",
    "                auc = roc_auc_score(y, y_hat)\n",
    "                if auc > best_auc:\n",
    "                    self.best_auc = auc\n",
    "                    self.best_depth = depth\n",
    "                    self.best_fix = fix_depth\n",
    "        # fit the best model\n",
    "        print (\"Best AUC:\", self.best_auc, \"\\tDepth:\", self.best_depth, \"\\tFix:\", self.best_fix)\n",
    "        K = Ks[self.best_depth][self.best_fix]\n",
    "        self.clf.fit(K, y)\n",
    "\n",
    "    def predict_proba(self,X):\n",
    "        Ks = kernel_value_batch(X, self.params['max_depth'])\n",
    "        K = Ks[self.best_depth][self.best_fix]\n",
    "        y_hat = self.clf.predict_proba(K)[:,1]\n",
    "        return y_hat"
   ]
  },
  {
   "cell_type": "code",
   "execution_count": 91,
   "metadata": {},
   "outputs": [],
   "source": [
    "params = {\"max_depth\" : 5, \"C\" : 10}"
   ]
  },
  {
   "cell_type": "code",
   "execution_count": 92,
   "metadata": {},
   "outputs": [],
   "source": [
    "model = NTK(params)"
   ]
  },
  {
   "cell_type": "code",
   "execution_count": 93,
   "metadata": {},
   "outputs": [
    {
     "name": "stdout",
     "output_type": "stream",
     "text": [
      "Best AUC: 1.0 \tDepth: 4 \tFix: 4\n"
     ]
    }
   ],
   "source": [
    "model.fit(X_tx, Y_tx)"
   ]
  },
  {
   "cell_type": "code",
   "execution_count": 94,
   "metadata": {},
   "outputs": [],
   "source": [
    "y_hat = model.predict_proba(X_tx)"
   ]
  },
  {
   "cell_type": "code",
   "execution_count": 95,
   "metadata": {},
   "outputs": [
    {
     "data": {
      "text/plain": [
       "1.0"
      ]
     },
     "execution_count": 95,
     "metadata": {},
     "output_type": "execute_result"
    }
   ],
   "source": [
    "roc_auc_score(Y_tx, y_hat)"
   ]
  },
  {
   "cell_type": "code",
   "execution_count": null,
   "metadata": {},
   "outputs": [],
   "source": []
  }
 ],
 "metadata": {
  "kernelspec": {
   "display_name": "Python 3",
   "language": "python",
   "name": "python3"
  },
  "language_info": {
   "codemirror_mode": {
    "name": "ipython",
    "version": 3
   },
   "file_extension": ".py",
   "mimetype": "text/x-python",
   "name": "python",
   "nbconvert_exporter": "python",
   "pygments_lexer": "ipython3",
   "version": "3.6.9"
  }
 },
 "nbformat": 4,
 "nbformat_minor": 4
}
