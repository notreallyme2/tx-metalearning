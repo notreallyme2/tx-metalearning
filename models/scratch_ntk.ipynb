{
 "cells": [
  {
   "cell_type": "code",
   "execution_count": 1,
   "metadata": {},
   "outputs": [],
   "source": [
    "import argparse\n",
    "from functools import partial\n",
    "from pathlib import Path\n",
    "import pandas as pd\n",
    "from operator import itemgetter\n",
    "import os\n",
    "import math\n",
    "from importlib import reload\n",
    "import numpy as np\n",
    "from random import shuffle\n",
    "from time import time\n",
    "from resampling import NestedCV, BaseModel\n",
    "import resampling\n",
    "from sklearn.model_selection import train_test_split\n",
    "from sklearn.model_selection import KFold\n",
    "from sklearn.metrics import roc_auc_score\n",
    "from sklearn.svm import SVC"
   ]
  },
  {
   "cell_type": "code",
   "execution_count": 2,
   "metadata": {},
   "outputs": [],
   "source": [
    "DEFAULT_DATASET_PATH = Path(\"/data/pfizer_tx/tasks_all_clr/all_clr_train_LUAD_stage.h5\")\n",
    "keys = ['/expression', '/labels']\n",
    "test_data = {key : pd.read_hdf(DEFAULT_DATASET_PATH, key = key) for key in keys}"
   ]
  },
  {
   "cell_type": "code",
   "execution_count": 3,
   "metadata": {},
   "outputs": [],
   "source": [
    "X_tx = test_data['/expression']\n",
    "Y_tx = test_data['/labels']"
   ]
  },
  {
   "cell_type": "code",
   "execution_count": 4,
   "metadata": {},
   "outputs": [],
   "source": [
    "MAX_DEPTH = 5 \n",
    "C_LIST = [10.0 ** i for i in range(-2, 5)] # hyperparameter for NTK"
   ]
  },
  {
   "cell_type": "code",
   "execution_count": 5,
   "metadata": {},
   "outputs": [],
   "source": [
    "def alg(K_train, K_val, y_train, y_val, C):\n",
    "    clf = SVC(kernel = \"precomputed\", C = C, cache_size = 100000, probability=True)\n",
    "    clf.fit(K_train, y_train)\n",
    "    y_hat = clf.predict_proba(K_val)[:,1]\n",
    "    return roc_auc_score(y_val, y_hat)"
   ]
  },
  {
   "cell_type": "code",
   "execution_count": 6,
   "metadata": {},
   "outputs": [],
   "source": [
    "class NTKNestedCV:\n",
    "    def __init__(self, alg, hparams, n_splits_outer=5, n_splits_inner=5, verbose=False):\n",
    "        \"\"\"Nested cross validation class for NTK models only. \n",
    "        Currently only uses AUROC as its performance metric.\n",
    "        \n",
    "        Parameters\n",
    "        ----------\n",
    "        alg : func\n",
    "                A function the implements a model that can accept the NTK kernel.  \n",
    "                Currently only SVM works.  \n",
    "                Model selection will be made based on the performance metric that 'alg' returns.  \n",
    "                At present, this is roc_auc_score.  \n",
    "        hparams : dict\n",
    "                A dict containing all the hyperparameters to be tried. \n",
    "                Must contain ['C'] (the list of values for the SVM model)  \n",
    "                and ['max_depth' for the NT kernel.]\n",
    "        n_splits_outer : int\n",
    "                The number of splits in the outer loop\n",
    "        n_splits_inner : int\n",
    "                The number of splits in the inner loop\n",
    "        verbose : bool\n",
    "                If True, prints all the parameter values being tested.\n",
    "                        \n",
    "        \"\"\"\n",
    "        self.alg = alg\n",
    "        self.hparams = hparams\n",
    "        self.n_splits_outer = n_splits_outer\n",
    "        self.n_splits_inner = n_splits_inner\n",
    "        self.verbose = verbose\n",
    "        \n",
    "    def _inner_loop(self, input_x, input_y):\n",
    "        \"\"\"The inner x-fold CV loop for finding optimal hyperparameters\"\"\"\n",
    "        inner = KFold(n_splits=self.n_splits_inner)\n",
    "        # instead of an array, we use a dict where the keys are \"<depth>,<fixed_depth>,<C>\" \n",
    "        # and the values are lists to which we can append\n",
    "        inner_fold_results = dict()\n",
    "        Ks = kernel_value_batch(input_x, self.hparams['max_depth'])\n",
    "        \n",
    "        for split_idx, (t, v) in enumerate(inner.split(input_x)):\n",
    "            print(f\"Inner fold {split_idx+1} of {self.n_splits_inner}\")\n",
    "            for depth in range(self.hparams['max_depth']):\n",
    "                for fix_depth in range(depth + 1):\n",
    "                    K = Ks[depth][fix_depth]\n",
    "                    for c in self.hparams['C']:\n",
    "                        if self.verbose:\n",
    "                            print(f\"Fitting model with depth: {depth}, fix depth: {fix_depth}, C: {c}\")\n",
    "                        auc = self.alg(\n",
    "                            K_train=K[t][:, t], \n",
    "                            K_val=K[v][:, t], \n",
    "                            y_train=input_y[t], \n",
    "                            y_val=input_y[v], \n",
    "                            C=c)\n",
    "                        key_ = f\"{depth},{fix_depth},{c}\"\n",
    "                        try:\n",
    "                            inner_fold_results[key_].append(auc)\n",
    "                        except KeyError:\n",
    "                            inner_fold_results[key_] = [auc]\n",
    "\n",
    "        # which hparam combination has best average performance across all splits?\n",
    "        # select these params, train on all the data and return a trained model\n",
    "        mean_results = {k : np.mean(v) for k, v in inner_fold_results.items()}\n",
    "        best_params = max(mean_results.items(), key=itemgetter(1))[0]\n",
    "        best_depth, best_fix, best_C = best_params.split(',')\n",
    "        print(f\"Best params: depth = {best_depth}, fixed depth = {best_fix}, C = {best_C}\")\n",
    "        \n",
    "        return {\"best_depth\" : int(best_depth), \"best_fix\" : int(best_fix), \"best_C\" : float(best_C)}\n",
    "    \n",
    "    def _outer_loop(self, X, Y):\n",
    "        \"\"\"The outer loop that produces an unbiased estimate of large sample performance\"\"\"\n",
    "        start = time()\n",
    "        outer = KFold(n_splits=self.n_splits_outer)\n",
    "        outer_fold_results = dict()\n",
    "        for split_idx, (t, v) in enumerate(outer.split(X)):\n",
    "            print(f\"Outer fold {split_idx+1} of {self.n_splits_outer}\")\n",
    "            x_train, y_train = X.iloc[t], Y.iloc[t]\n",
    "            x_test, y_test = X.iloc[v], Y.iloc[v]\n",
    "            best_params = self._inner_loop(x_train.values, y_train.values)\n",
    "            Ks = kernel_value_batch(X.values, best_params['best_depth']+1)\n",
    "            K = Ks[int(best_params['best_depth'])][int(best_params['best_fix'])]\n",
    "            this_performance = self.alg(\n",
    "                                K_train=K[t][:, t], \n",
    "                                K_val=K[v][:, t], \n",
    "                                y_train=y_train, \n",
    "                                y_val=y_test, \n",
    "                                C=best_params['best_C'])\n",
    "            outer_fold_results[f\"Fold {split_idx+1}\"] = (best_params, this_performance)\n",
    "        time_taken = time() - start\n",
    "        return (outer_fold_results, time_taken)\n",
    "    \n",
    "    def train(self, X, Y):\n",
    "        \"\"\"The main train loop for the class. \n",
    "        Takes the full input and output data and returns an array of performance measures (one for each outer loop) and the coresponding model paramaeters\n",
    "        \"\"\"\n",
    "        outer_fold_results, time_taken = self._outer_loop(X, Y)\n",
    "        mean_performance = np.mean([v for p, v in outer_fold_results.values()])\n",
    "        print(f\"Total time taken: {time_taken}\")\n",
    "        print(f\"Mean performance across {self.n_splits_outer} outer splits: {mean_performance}\")\n",
    "        return outer_fold_results"
   ]
  },
  {
   "cell_type": "code",
   "execution_count": 7,
   "metadata": {},
   "outputs": [],
   "source": [
    "# class NTKNestedCV:\n",
    "#     def __init__(self, alg, hparams, n_splits_outer=5, n_splits_inner=5, verbose=False):\n",
    "#         \"\"\"Nested cross validation class for NTK models only. \n",
    "#         Currently only uses AUROC as its performance metric.\n",
    "        \n",
    "#         Parameters\n",
    "#         ----------\n",
    "#         alg : func\n",
    "#                 A function the implements a model that can accept the NTK kernel.  \n",
    "#                 Currently only SVM works.  \n",
    "#                 Model selection will be made based on the performance metric that 'alg' returns.  \n",
    "#                 At present, this is roc_auc_score.  \n",
    "#         hparams : dict\n",
    "#                 A dict containing all the hyperparameters to be tried. \n",
    "#                 Must contain ['C'] (the list of values for the SVM model)  \n",
    "#                 and ['max_depth' for the NT kernel.]\n",
    "#         n_splits_outer : int\n",
    "#                 The number of splits in the outer loop\n",
    "#         n_splits_inner : int\n",
    "#                 The number of splits in the inner loop\n",
    "#         verbose : bool\n",
    "#                 If True, prints all the parameter values being tested.\n",
    "                        \n",
    "#         \"\"\"\n",
    "#         self.alg = alg\n",
    "#         self.hparams = hparams\n",
    "#         self.n_splits_outer = n_splits_outer\n",
    "#         self.n_splits_inner = n_splits_inner\n",
    "#         self.verbose = verbose\n",
    "        \n",
    "#     def _inner_loop(self, input_x, input_y):\n",
    "#         \"\"\"The inner x-fold CV loop for finding optimal hyperparameters\"\"\"\n",
    "#         inner = KFold(n_splits=self.n_splits_inner)\n",
    "#         # instead of an array, we use a dict where the keys are \"<depth>,<fixed_depth>,<C>\" \n",
    "#         # and the values are lists to which we can append\n",
    "#         inner_fold_results = dict()\n",
    "#         Ks = kernel_value_batch(input_x, self.hparams['max_depth'])\n",
    "        \n",
    "#         for split_idx, (t, v) in enumerate(inner.split(input_x)):\n",
    "#             print(f\"Inner fold {split_idx+1} of {self.n_splits_inner}\")\n",
    "#             for depth in range(MAX_DEPTH):\n",
    "#                 for fix_depth in range(depth + 1):\n",
    "#                     K = Ks[depth][fix_depth]\n",
    "#                     for c in C_LIST:\n",
    "#                         if self.verbose:\n",
    "#                             print(f\"Fitting model with depth: {depth}, fix depth: {fix_depth}, C: {c}\")\n",
    "#                         auc = self.alg(\n",
    "#                             K_train=K[t][:, t], \n",
    "#                             K_val=K[v][:, t], \n",
    "#                             y_train=y[t], \n",
    "#                             y_val=y[v], \n",
    "#                             C=c)\n",
    "#                         key_ = f\"{depth},{fix_depth},{c}\"\n",
    "#                         try:\n",
    "#                             inner_fold_results[key_].append(auc)\n",
    "#                         except KeyError:\n",
    "#                             inner_fold_results[key_] = [auc]\n",
    "\n",
    "#         # which hparam combination has best average performance across all splits?\n",
    "#         # select these params, train on all the data and return a trained model\n",
    "#         mean_results = {k : np.mean(v) for k, v in inner_fold_results.items()}\n",
    "#         best_params = max(mean_results.items(), key=itemgetter(1))[0]\n",
    "#         best_depth, best_fix, best_C = best_params.split(',')\n",
    "#         print(f\"Best params: depth = {best_depth}, fixed depth = {best_fix}, C = {best_C}\")\n",
    "        \n",
    "#         return {\"best_depth\" : int(best_depth), \"best_fix\" : int(best_fix), \"best_C\" : float(best_C)}\n",
    "    \n",
    "#     def _outer_loop(self, X, Y):\n",
    "#         \"\"\"The outer loop that produces an unbiased estimate of large sample performance\"\"\"\n",
    "#         start = time()\n",
    "#         outer = KFold(n_splits=self.n_splits_outer)\n",
    "#         outer_fold_results = dict()\n",
    "#         for split_idx, (t, v) in enumerate(outer.split(X)):\n",
    "#             print(f\"Outer fold {split_idx+1} of {self.n_splits_outer}\")\n",
    "#             x_train, y_train = X.iloc[t], Y.iloc[t]\n",
    "#             x_test, y_test = X.iloc[v], Y.iloc[v]\n",
    "#             best_params = self._inner_loop(x_train.values, y_train.values)\n",
    "#             Ks = kernel_value_batch(X.values, best_params['best_depth']+1)\n",
    "#             K = Ks[int(best_params['best_depth'])][int(best_params['best_fix'])]\n",
    "#             this_performance = self.alg(\n",
    "#                                 K_train=K[t][:, t], \n",
    "#                                 K_val=K[v][:, t], \n",
    "#                                 y_train=y[t], \n",
    "#                                 y_val=y[v], \n",
    "#                                 C=best_params['best_C'])\n",
    "#             outer_fold_results[f\"Fold {split_idx+1}\"] = (best_params, this_performance)\n",
    "#         time_taken = time() - start\n",
    "#         return (outer_fold_results, time_taken)\n",
    "    \n",
    "#     def train(self, X, Y):\n",
    "#         \"\"\"The main train loop for the class. \n",
    "#         Takes the full input and output data and returns an array of performance measures (one for each outer loop) and the coresponding model paramaeters\n",
    "#         \"\"\"\n",
    "#         outer_fold_results, time_taken = self._outer_loop(X, Y)\n",
    "#         mean_performance = np.mean([v for p, v in outer_fold_results.values()])\n",
    "#         print(f\"Total time taken: {time_taken}\")\n",
    "#         print(f\"Mean performance across {self.n_splits_outer} outer splits: {mean_performance}\")\n",
    "#         return outer_fold_results"
   ]
  },
  {
   "cell_type": "code",
   "execution_count": 8,
   "metadata": {},
   "outputs": [],
   "source": [
    "ntk_nest_cv = resampling.NTKNestedCV(alg=alg, hparams={'max_depth' : 5, 'C' : C_LIST}, n_splits_outer=2, n_splits_inner=2)"
   ]
  },
  {
   "cell_type": "code",
   "execution_count": 9,
   "metadata": {},
   "outputs": [
    {
     "name": "stdout",
     "output_type": "stream",
     "text": [
      "Outer fold 1 of 2\n",
      "Inner fold 1 of 2\n",
      "Inner fold 2 of 2\n",
      "Best params: depth = 4, fixed depth = 4, C = 1.0\n",
      "Outer fold 2 of 2\n",
      "Inner fold 1 of 2\n",
      "Inner fold 2 of 2\n",
      "Best params: depth = 4, fixed depth = 0, C = 0.01\n",
      "Total time taken: 5.921832084655762\n",
      "Mean performance across 2 outer splits: 0.6328547847288477\n"
     ]
    }
   ],
   "source": [
    "results = ntk_nest_cv.train(X_tx, Y_tx)"
   ]
  },
  {
   "cell_type": "code",
   "execution_count": 10,
   "metadata": {},
   "outputs": [
    {
     "data": {
      "text/plain": [
       "{'Fold 1': ({'best_depth': 4, 'best_fix': 4, 'best_C': 1.0},\n",
       "  0.6112205801860974),\n",
       " 'Fold 2': ({'best_depth': 4, 'best_fix': 0, 'best_C': 0.01},\n",
       "  0.6544889892715979)}"
      ]
     },
     "execution_count": 10,
     "metadata": {},
     "output_type": "execute_result"
    }
   ],
   "source": [
    "results"
   ]
  },
  {
   "cell_type": "code",
   "execution_count": 11,
   "metadata": {},
   "outputs": [],
   "source": [
    "auc = [v for p, v in results.values()]\n",
    "best_depth = [p['best_depth'] for p, v in results.values()]\n",
    "best_fix = [p['best_fix'] for p, v in results.values()]\n",
    "best_C = [p['best_C'] for p, v in results.values()]"
   ]
  },
  {
   "cell_type": "code",
   "execution_count": 12,
   "metadata": {},
   "outputs": [],
   "source": [
    "x = pd.DataFrame([best_depth, best_fix, best_C, auc]).transpose()\n",
    "x.columns = [\"auc\", \"depth\", \"fix_depth\", \"C\"]"
   ]
  },
  {
   "cell_type": "code",
   "execution_count": 13,
   "metadata": {},
   "outputs": [
    {
     "data": {
      "text/html": [
       "<div>\n",
       "<style scoped>\n",
       "    .dataframe tbody tr th:only-of-type {\n",
       "        vertical-align: middle;\n",
       "    }\n",
       "\n",
       "    .dataframe tbody tr th {\n",
       "        vertical-align: top;\n",
       "    }\n",
       "\n",
       "    .dataframe thead th {\n",
       "        text-align: right;\n",
       "    }\n",
       "</style>\n",
       "<table border=\"1\" class=\"dataframe\">\n",
       "  <thead>\n",
       "    <tr style=\"text-align: right;\">\n",
       "      <th></th>\n",
       "      <th>auc</th>\n",
       "      <th>depth</th>\n",
       "      <th>fix_depth</th>\n",
       "      <th>C</th>\n",
       "    </tr>\n",
       "  </thead>\n",
       "  <tbody>\n",
       "    <tr>\n",
       "      <th>0</th>\n",
       "      <td>4.0</td>\n",
       "      <td>4.0</td>\n",
       "      <td>1.00</td>\n",
       "      <td>0.611221</td>\n",
       "    </tr>\n",
       "    <tr>\n",
       "      <th>1</th>\n",
       "      <td>4.0</td>\n",
       "      <td>0.0</td>\n",
       "      <td>0.01</td>\n",
       "      <td>0.654489</td>\n",
       "    </tr>\n",
       "  </tbody>\n",
       "</table>\n",
       "</div>"
      ],
      "text/plain": [
       "   auc  depth  fix_depth         C\n",
       "0  4.0    4.0       1.00  0.611221\n",
       "1  4.0    0.0       0.01  0.654489"
      ]
     },
     "execution_count": 13,
     "metadata": {},
     "output_type": "execute_result"
    }
   ],
   "source": [
    "x"
   ]
  },
  {
   "cell_type": "code",
   "execution_count": null,
   "metadata": {},
   "outputs": [],
   "source": []
  }
 ],
 "metadata": {
  "kernelspec": {
   "display_name": "Python 3",
   "language": "python",
   "name": "python3"
  },
  "language_info": {
   "codemirror_mode": {
    "name": "ipython",
    "version": 3
   },
   "file_extension": ".py",
   "mimetype": "text/x-python",
   "name": "python",
   "nbconvert_exporter": "python",
   "pygments_lexer": "ipython3",
   "version": "3.6.9"
  }
 },
 "nbformat": 4,
 "nbformat_minor": 4
}
