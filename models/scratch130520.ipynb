{
 "cells": [
  {
   "cell_type": "code",
   "execution_count": 23,
   "metadata": {},
   "outputs": [],
   "source": [
    "from functools import partial\n",
    "import math\n",
    "from operator import itemgetter\n",
    "import os\n",
    "from pathlib import Path\n",
    "from time import time\n",
    "from importlib import reload\n",
    "from fire import Fire\n",
    "import numpy as np\n",
    "import pandas as pd\n",
    "from sklearn.model_selection import train_test_split\n",
    "from sklearn.model_selection import KFold\n",
    "from sklearn.metrics import roc_auc_score\n",
    "from sklearn.svm import SVC\n",
    "\n",
    "from NTK import kernel_value_batch\n",
    "from resampling import NTKNestedCV\n",
    "import resampling\n",
    "from utilities import hdf_keys\n"
   ]
  },
  {
   "cell_type": "code",
   "execution_count": 32,
   "metadata": {},
   "outputs": [],
   "source": [
    "DEFAULT_DATASET_PATH = Path(\"/data/pfizer_tx/tasks_all_clr/all_clr_train_LUAD_stage.h5\")\n",
    "DEFAULT_MAX_DEPTH = 5 \n",
    "DEFAULT_C_LIST = [10.0 ** i for i in range(-2, 5)] # hyperparameter for NTK\n",
    "DEFAULT_HPARAMS = {'max_depth' : DEFAULT_MAX_DEPTH, 'C' : DEFAULT_C_LIST}"
   ]
  },
  {
   "cell_type": "code",
   "execution_count": 33,
   "metadata": {},
   "outputs": [],
   "source": [
    "def alg(K_train, K_val, y_train, y_val, C):\n",
    "    \"\"\"Alg is the SVM func that takes a pre-computed NT kernel\"\"\"\n",
    "    clf = SVC(kernel = \"precomputed\", C = C, cache_size = 100000, probability=True)\n",
    "    clf.fit(K_train, y_train)\n",
    "    y_hat = clf.predict_proba(K_val)[:,1]\n",
    "    return roc_auc_score(y_val, y_hat)"
   ]
  },
  {
   "cell_type": "code",
   "execution_count": 34,
   "metadata": {},
   "outputs": [],
   "source": [
    "def cross_val_loop(n_splits_outer=5, n_splits_inner=5, dataset_path=DEFAULT_DATASET_PATH, hparams=DEFAULT_HPARAMS):\n",
    "    \"\"\"Sends a single data set (stored as an h5 file by Pandas) to a nested CV loop.  \n",
    "    A model is trained on multiple hyperparameters in the inner loop.  \n",
    "    Unbiased performance is assessed in the outer loop.  \n",
    "    Output is saved to a file named \"<dataset_path>_l2.csv\" in the local folder ./results/  \n",
    "    \n",
    "    Parameters\n",
    "    ----------\n",
    "    n_splits_outer : int\n",
    "    n_splits_inner : int\n",
    "    dataset_path : str or Path\n",
    "    hparams : dict\n",
    "    \n",
    "    \"\"\"\n",
    "    results_dir =  Path(\"./results/ntk/\")\n",
    "    results_dir.mkdir(parents=True, exist_ok=True)\n",
    "    results = []\n",
    "    best_params = []\n",
    "    dataset_path = Path(dataset_path)\n",
    "    results_path = Path(results_dir/f\"{dataset_path.stem}_l2.csv\")\n",
    "    print(f\"Training on {dataset_path}\")\n",
    "    keys = hdf_keys(dataset_path)\n",
    "    test_data = {key : pd.read_hdf(dataset_path, key = key) for key in keys}\n",
    "    ntk_nest_cv = resampling.NTKNestedCV(alg=alg, hparams=DEFAULT_HPARAMS, n_splits_outer=2, n_splits_inner=2)\n",
    "    performance = ntk_nest_cv.train(test_data['/expression'], test_data['/labels'])\n",
    "    best_depth = [p['best_depth'] for p, v in performance.values()]\n",
    "    best_fix = [p['best_fix'] for p, v in performance.values()]\n",
    "    best_C = [p['best_C'] for p, v in performance.values()]\n",
    "    auc = [v for p, v in performance.values()]\n",
    "    results = pd.DataFrame([best_depth, best_fix, best_C, auc]).transpose()\n",
    "    results.columns = [\"auc\", \"depth\", \"fix_depth\", \"C\"]\n",
    "    results.to_csv(results_path, index=False)"
   ]
  },
  {
   "cell_type": "code",
   "execution_count": 35,
   "metadata": {},
   "outputs": [
    {
     "data": {
      "text/plain": [
       "{'max_depth': 5, 'C': [0.01, 0.1, 1.0, 10.0, 100.0, 1000.0, 10000.0]}"
      ]
     },
     "execution_count": 35,
     "metadata": {},
     "output_type": "execute_result"
    }
   ],
   "source": [
    "DEFAULT_HPARAMS"
   ]
  },
  {
   "cell_type": "code",
   "execution_count": 36,
   "metadata": {},
   "outputs": [
    {
     "name": "stdout",
     "output_type": "stream",
     "text": [
      "Training on /data/pfizer_tx/tasks_all_clr/all_clr_train_LUAD_stage.h5\n",
      "Outer fold 1 of 2\n",
      "Inner fold 1 of 2\n",
      "Inner fold 2 of 2\n",
      "Best params: depth = 4, fixed depth = 4, C = 1000.0\n",
      "Outer fold 2 of 2\n",
      "Inner fold 1 of 2\n",
      "Inner fold 2 of 2\n",
      "Best params: depth = 4, fixed depth = 0, C = 100.0\n",
      "Total time taken: 6.001445055007935\n",
      "Mean performance across 2 outer splits: 0.6330391622370632\n"
     ]
    }
   ],
   "source": [
    "reload(resampling)\n",
    "cross_val_loop(n_splits_inner=2, n_splits_outer=2)"
   ]
  },
  {
   "cell_type": "code",
   "execution_count": null,
   "metadata": {},
   "outputs": [],
   "source": []
  }
 ],
 "metadata": {
  "kernelspec": {
   "display_name": "Python 3",
   "language": "python",
   "name": "python3"
  },
  "language_info": {
   "codemirror_mode": {
    "name": "ipython",
    "version": 3
   },
   "file_extension": ".py",
   "mimetype": "text/x-python",
   "name": "python",
   "nbconvert_exporter": "python",
   "pygments_lexer": "ipython3",
   "version": "3.6.9"
  }
 },
 "nbformat": 4,
 "nbformat_minor": 4
}
