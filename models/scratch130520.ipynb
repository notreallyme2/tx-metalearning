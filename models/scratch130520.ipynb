{
 "cells": [
  {
   "cell_type": "code",
   "execution_count": 17,
   "metadata": {},
   "outputs": [],
   "source": [
    "import os\n",
    "from pathlib import Path\n",
    "from time import time\n",
    "from tqdm import tqdm\n",
    "from importlib import reload\n",
    "\n",
    "from fire import Fire\n",
    "import matplotlib.pyplot as plt\n",
    "import numpy as np\n",
    "import pandas as pd\n",
    "import sklearn as skl\n",
    "from sklearn.model_selection import KFold, ParameterGrid\n",
    "from sklearn.neighbors import KNeighborsClassifier\n",
    "from sklearn.metrics import roc_auc_score\n",
    "\n",
    "import resampling\n",
    "from utilities import hdf_keys"
   ]
  },
  {
   "cell_type": "code",
   "execution_count": 22,
   "metadata": {},
   "outputs": [],
   "source": [
    "DEFAULT_DATASET_PATH = Path(\"/data/pfizer_tx/tasks_all_clr/all_clr_train_LUAD_stage.h5\")\n",
    "keys = hdf_keys(DEFAULT_DATASET_PATH)\n",
    "test_data = {key : pd.read_hdf(DEFAULT_DATASET_PATH, key = key) for key in keys}\n",
    "HPARAMS = dict()\n",
    "HPARAMS['k'] = [1]"
   ]
  },
  {
   "cell_type": "code",
   "execution_count": 23,
   "metadata": {},
   "outputs": [],
   "source": [
    "class KNN(resampling.BaseModel):\n",
    "    def __init__(self, params):\n",
    "        super().__init__()\n",
    "        self.params = params\n",
    "        print(params['k'])\n",
    "        self.model = KNeighborsClassifier(n_neighbors=self.params['k'], n_jobs=-1)\n",
    "    def fit(self, X, y):\n",
    "        self.model.fit(X, y)\n",
    "    def predict_proba(self,X):\n",
    "        return self.model.predict_proba(X)"
   ]
  },
  {
   "cell_type": "code",
   "execution_count": 26,
   "metadata": {},
   "outputs": [
    {
     "data": {
      "text/plain": [
       "<module 'resampling' from '/home/ubuntu/tx-metalearning/models/resampling.py'>"
      ]
     },
     "execution_count": 26,
     "metadata": {},
     "output_type": "execute_result"
    }
   ],
   "source": [
    "reload(resampling)"
   ]
  },
  {
   "cell_type": "code",
   "execution_count": 27,
   "metadata": {},
   "outputs": [
    {
     "name": "stdout",
     "output_type": "stream",
     "text": [
      "Outer fold 1 of 2\n",
      "Inner fold 1 of 2\n",
      "1\n",
      "Fitting model with params: {'k': 1}\n",
      "Inner fold 2 of 2\n",
      "1\n",
      "Fitting model with params: {'k': 1}\n",
      "Best params: {'k': 1}, training final model\n",
      "1\n",
      "Outer fold 2 of 2\n",
      "Inner fold 1 of 2\n",
      "1\n",
      "Fitting model with params: {'k': 1}\n",
      "Inner fold 2 of 2\n",
      "1\n",
      "Fitting model with params: {'k': 1}\n",
      "Best params: {'k': 1}, training final model\n",
      "1\n",
      "Total time taken: 14.469674825668335\n",
      "Mean performance across 2 outer splits: 0.5137707120465741\n"
     ]
    }
   ],
   "source": [
    "nestedCV = resampling.NestedCV(KNN, HPARAMS, n_splits_outer=2, n_splits_inner=2)\n",
    "performance, params = nestedCV.train(test_data['/expression'], test_data['/labels'])"
   ]
  },
  {
   "cell_type": "code",
   "execution_count": 29,
   "metadata": {},
   "outputs": [
    {
     "data": {
      "text/plain": [
       "[{'k': 1}, {'k': 1}]"
      ]
     },
     "execution_count": 29,
     "metadata": {},
     "output_type": "execute_result"
    }
   ],
   "source": [
    "params"
   ]
  },
  {
   "cell_type": "code",
   "execution_count": 8,
   "metadata": {},
   "outputs": [
    {
     "ename": "TypeError",
     "evalue": "__init__() missing 1 required positional argument: 'params'",
     "output_type": "error",
     "traceback": [
      "\u001b[0;31m---------------------------------------------------------------------------\u001b[0m",
      "\u001b[0;31mTypeError\u001b[0m                                 Traceback (most recent call last)",
      "\u001b[0;32m<ipython-input-8-1e8679278d79>\u001b[0m in \u001b[0;36m<module>\u001b[0;34m\u001b[0m\n\u001b[0;32m----> 1\u001b[0;31m \u001b[0mmodel\u001b[0m \u001b[0;34m=\u001b[0m \u001b[0mKNN\u001b[0m\u001b[0;34m(\u001b[0m\u001b[0;34m)\u001b[0m\u001b[0;34m\u001b[0m\u001b[0;34m\u001b[0m\u001b[0m\n\u001b[0m",
      "\u001b[0;31mTypeError\u001b[0m: __init__() missing 1 required positional argument: 'params'"
     ]
    }
   ],
   "source": [
    "def knn_model(params):\n",
    "        return KNN(n_neighbors=params['k'], n_jobs=-1)"
   ]
  },
  {
   "cell_type": "code",
   "execution_count": 4,
   "metadata": {},
   "outputs": [],
   "source": [
    "def cross_val_loop(n_splits_outer=5, n_splits_inner=5, dataset_path=DEFAULT_DATASET_PATH, hparams=DEFAULT_HPARAMS):\n",
    "    \"\"\"Sends a single data set (stored as an h5 file by Pandas) to a nested CV loop.  \n",
    "    A KNN model is trained on multiple hyperparameters in the inner loop.  \n",
    "    Unbiased performance is assessed in the outer loop.  \n",
    "    Output is saved to a file named \"<dataset_path>_knn.csv\" in the local folder ./results/  \n",
    "    \n",
    "    Parameters\n",
    "    ----------\n",
    "    n_splits_outer : int\n",
    "    n_splits_inner : int\n",
    "    dataset_path : str or Path\n",
    "    hparams : dict\n",
    "    \n",
    "    \"\"\"\n",
    "    results_dir =  Path(\"./results/l2/\")\n",
    "    results_dir.mkdir(parents=True, exist_ok=True)\n",
    "    results = []\n",
    "    best_params = []\n",
    "    dataset_path = Path(dataset_path)\n",
    "    results_path = Path(results_dir/f\"{dataset_path.stem}_knn.csv\")\n",
    "    print(f\"Training on {dataset_path}\")\n",
    "    keys = hdf_keys(dataset_path)\n",
    "    test_data = {key : pd.read_hdf(dataset_path, key = key) for key in keys}\n",
    "    def knn_model(params):\n",
    "        return KNN(n_neighbors=params['k'], n_jobs=-1)\n",
    "    nestedCV = NestedCV(knn_model, hparams, n_splits_outer, n_splits_inner)\n",
    "    performance, params = nestedCV.train(test_data['/expression'], test_data['/labels'])\n",
    "    results = pd.DataFrame([performance, params]).transpose()\n",
    "    results.columns = [\"auc\", \"params\"]\n",
    "    results.to_csv(results_path, index=False)"
   ]
  },
  {
   "cell_type": "code",
   "execution_count": null,
   "metadata": {},
   "outputs": [],
   "source": []
  }
 ],
 "metadata": {
  "kernelspec": {
   "display_name": "Python 3",
   "language": "python",
   "name": "python3"
  },
  "language_info": {
   "codemirror_mode": {
    "name": "ipython",
    "version": 3
   },
   "file_extension": ".py",
   "mimetype": "text/x-python",
   "name": "python",
   "nbconvert_exporter": "python",
   "pygments_lexer": "ipython3",
   "version": "3.6.9"
  }
 },
 "nbformat": 4,
 "nbformat_minor": 4
}
