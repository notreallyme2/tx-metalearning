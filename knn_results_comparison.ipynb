{
 "cells": [
  {
   "cell_type": "markdown",
   "metadata": {},
   "source": [
    "# KNN Results Comparison"
   ]
  },
  {
   "cell_type": "code",
   "execution_count": 2,
   "metadata": {},
   "outputs": [],
   "source": [
    "import matplotlib.pyplot as plt\n",
    "import pandas as pd\n",
    "import seaborn as sns"
   ]
  },
  {
   "cell_type": "code",
   "execution_count": 3,
   "metadata": {},
   "outputs": [],
   "source": [
    "smith_results = pd.read_csv(\"./results/representation_learning_transcriptomics_results.csv\")\n",
    "tcga_classification_tasks = pd.read_csv(\"./data_utilities/tcga_classification_tasks.csv\")\n",
    "tcga_results_knn = pd.read_csv(\"./results/tcga_results.csv\")"
   ]
  },
  {
   "cell_type": "code",
   "execution_count": 4,
   "metadata": {},
   "outputs": [],
   "source": [
    "binary = smith_results['label_type'] == 'binary'\n",
    "knn = smith_results['supervised_model'] == 'k nearest neighbor'\n",
    "no_embedding = smith_results['unsupervised_model'] == 'no embedding'\n",
    "gene_set = smith_results['gene_set'] == 'all'\n",
    "norm = smith_results['normalization'] == 'clr'\n",
    "tcga = [\"GSE\" not in e for e in smith_results['task']]"
   ]
  },
  {
   "cell_type": "code",
   "execution_count": 5,
   "metadata": {},
   "outputs": [],
   "source": [
    "tcga_results_smith = smith_results[binary & knn & no_embedding & gene_set & norm & tcga]"
   ]
  },
  {
   "cell_type": "code",
   "execution_count": 6,
   "metadata": {},
   "outputs": [],
   "source": [
    "def create_task(filename):\n",
    "    cancer, task = filename.split('_')[3:5]\n",
    "    class_ = task.split('.')[0]\n",
    "    return (\" \".join([cancer, class_]))"
   ]
  },
  {
   "cell_type": "code",
   "execution_count": 7,
   "metadata": {},
   "outputs": [],
   "source": [
    "tcga_results_knn['task'] = [create_task(f) for f in tcga_classification_tasks['filename']]"
   ]
  },
  {
   "cell_type": "code",
   "execution_count": 8,
   "metadata": {},
   "outputs": [
    {
     "data": {
      "text/html": [
       "<div>\n",
       "<style scoped>\n",
       "    .dataframe tbody tr th:only-of-type {\n",
       "        vertical-align: middle;\n",
       "    }\n",
       "\n",
       "    .dataframe tbody tr th {\n",
       "        vertical-align: top;\n",
       "    }\n",
       "\n",
       "    .dataframe thead th {\n",
       "        text-align: right;\n",
       "    }\n",
       "</style>\n",
       "<table border=\"1\" class=\"dataframe\">\n",
       "  <thead>\n",
       "    <tr style=\"text-align: right;\">\n",
       "      <th></th>\n",
       "      <th>unsupervised_model</th>\n",
       "      <th>supervised_model</th>\n",
       "      <th>gene_set</th>\n",
       "      <th>normalization</th>\n",
       "      <th>task</th>\n",
       "      <th>group</th>\n",
       "      <th>label_type</th>\n",
       "      <th>num_genes</th>\n",
       "      <th>num_features</th>\n",
       "      <th>num_samples</th>\n",
       "      <th>num_classes</th>\n",
       "      <th>score</th>\n",
       "      <th>score_units</th>\n",
       "    </tr>\n",
       "  </thead>\n",
       "  <tbody>\n",
       "    <tr>\n",
       "      <th>601</th>\n",
       "      <td>no embedding</td>\n",
       "      <td>k nearest neighbor</td>\n",
       "      <td>all</td>\n",
       "      <td>clr</td>\n",
       "      <td>STAD stage</td>\n",
       "      <td>train</td>\n",
       "      <td>binary</td>\n",
       "      <td>57992</td>\n",
       "      <td>57992</td>\n",
       "      <td>416</td>\n",
       "      <td>2</td>\n",
       "      <td>0.589089</td>\n",
       "      <td>AUC</td>\n",
       "    </tr>\n",
       "    <tr>\n",
       "      <th>602</th>\n",
       "      <td>no embedding</td>\n",
       "      <td>k nearest neighbor</td>\n",
       "      <td>all</td>\n",
       "      <td>clr</td>\n",
       "      <td>KIRC grade</td>\n",
       "      <td>train</td>\n",
       "      <td>binary</td>\n",
       "      <td>57992</td>\n",
       "      <td>57992</td>\n",
       "      <td>544</td>\n",
       "      <td>2</td>\n",
       "      <td>0.504933</td>\n",
       "      <td>AUC</td>\n",
       "    </tr>\n",
       "    <tr>\n",
       "      <th>603</th>\n",
       "      <td>no embedding</td>\n",
       "      <td>k nearest neighbor</td>\n",
       "      <td>all</td>\n",
       "      <td>clr</td>\n",
       "      <td>LUSC stage</td>\n",
       "      <td>validate</td>\n",
       "      <td>binary</td>\n",
       "      <td>57992</td>\n",
       "      <td>57992</td>\n",
       "      <td>504</td>\n",
       "      <td>2</td>\n",
       "      <td>0.571299</td>\n",
       "      <td>AUC</td>\n",
       "    </tr>\n",
       "    <tr>\n",
       "      <th>604</th>\n",
       "      <td>no embedding</td>\n",
       "      <td>k nearest neighbor</td>\n",
       "      <td>all</td>\n",
       "      <td>clr</td>\n",
       "      <td>PAAD grade</td>\n",
       "      <td>train</td>\n",
       "      <td>binary</td>\n",
       "      <td>57992</td>\n",
       "      <td>57992</td>\n",
       "      <td>179</td>\n",
       "      <td>2</td>\n",
       "      <td>0.595513</td>\n",
       "      <td>AUC</td>\n",
       "    </tr>\n",
       "    <tr>\n",
       "      <th>605</th>\n",
       "      <td>no embedding</td>\n",
       "      <td>k nearest neighbor</td>\n",
       "      <td>all</td>\n",
       "      <td>clr</td>\n",
       "      <td>BRCA stage</td>\n",
       "      <td>test</td>\n",
       "      <td>binary</td>\n",
       "      <td>57992</td>\n",
       "      <td>57992</td>\n",
       "      <td>1134</td>\n",
       "      <td>2</td>\n",
       "      <td>0.595413</td>\n",
       "      <td>AUC</td>\n",
       "    </tr>\n",
       "  </tbody>\n",
       "</table>\n",
       "</div>"
      ],
      "text/plain": [
       "    unsupervised_model    supervised_model gene_set normalization        task  \\\n",
       "601       no embedding  k nearest neighbor      all           clr  STAD stage   \n",
       "602       no embedding  k nearest neighbor      all           clr  KIRC grade   \n",
       "603       no embedding  k nearest neighbor      all           clr  LUSC stage   \n",
       "604       no embedding  k nearest neighbor      all           clr  PAAD grade   \n",
       "605       no embedding  k nearest neighbor      all           clr  BRCA stage   \n",
       "\n",
       "        group label_type  num_genes  num_features  num_samples  num_classes  \\\n",
       "601     train     binary      57992         57992          416            2   \n",
       "602     train     binary      57992         57992          544            2   \n",
       "603  validate     binary      57992         57992          504            2   \n",
       "604     train     binary      57992         57992          179            2   \n",
       "605      test     binary      57992         57992         1134            2   \n",
       "\n",
       "        score score_units  \n",
       "601  0.589089         AUC  \n",
       "602  0.504933         AUC  \n",
       "603  0.571299         AUC  \n",
       "604  0.595513         AUC  \n",
       "605  0.595413         AUC  "
      ]
     },
     "execution_count": 8,
     "metadata": {},
     "output_type": "execute_result"
    }
   ],
   "source": [
    "tcga_results_smith.head()"
   ]
  },
  {
   "cell_type": "code",
   "execution_count": 9,
   "metadata": {},
   "outputs": [
    {
     "name": "stderr",
     "output_type": "stream",
     "text": [
      "/usr/local/lib/python3.6/dist-packages/ipykernel_launcher.py:2: SettingWithCopyWarning: \n",
      "A value is trying to be set on a copy of a slice from a DataFrame\n",
      "\n",
      "See the caveats in the documentation: http://pandas.pydata.org/pandas-docs/stable/indexing.html#indexing-view-versus-copy\n",
      "  \n"
     ]
    }
   ],
   "source": [
    "tcga_results_knn.sort_values(by='task', inplace=True)\n",
    "tcga_results_smith.sort_values(by='task', inplace=True)"
   ]
  },
  {
   "cell_type": "code",
   "execution_count": 10,
   "metadata": {},
   "outputs": [
    {
     "data": {
      "text/plain": [
       "True"
      ]
     },
     "execution_count": 10,
     "metadata": {},
     "output_type": "execute_result"
    }
   ],
   "source": [
    "# check they are aligned correctly\n",
    "all( [a == b for a,b in zip(tcga_results_smith['task'], tcga_results_knn['task'])] )"
   ]
  },
  {
   "cell_type": "code",
   "execution_count": 11,
   "metadata": {},
   "outputs": [],
   "source": [
    "sns_data = pd.DataFrame()\n",
    "sns_data['OurResults'] = tcga_results_knn['results'].values\n",
    "sns_data['SmithResults'] = tcga_results_smith['score'].values"
   ]
  },
  {
   "cell_type": "code",
   "execution_count": 12,
   "metadata": {},
   "outputs": [
    {
     "data": {
      "text/html": [
       "<div>\n",
       "<style scoped>\n",
       "    .dataframe tbody tr th:only-of-type {\n",
       "        vertical-align: middle;\n",
       "    }\n",
       "\n",
       "    .dataframe tbody tr th {\n",
       "        vertical-align: top;\n",
       "    }\n",
       "\n",
       "    .dataframe thead th {\n",
       "        text-align: right;\n",
       "    }\n",
       "</style>\n",
       "<table border=\"1\" class=\"dataframe\">\n",
       "  <thead>\n",
       "    <tr style=\"text-align: right;\">\n",
       "      <th></th>\n",
       "      <th>OurResults</th>\n",
       "      <th>SmithResults</th>\n",
       "    </tr>\n",
       "  </thead>\n",
       "  <tbody>\n",
       "    <tr>\n",
       "      <th>0</th>\n",
       "      <td>0.557111</td>\n",
       "      <td>0.595413</td>\n",
       "    </tr>\n",
       "    <tr>\n",
       "      <th>1</th>\n",
       "      <td>0.640002</td>\n",
       "      <td>0.607986</td>\n",
       "    </tr>\n",
       "    <tr>\n",
       "      <th>2</th>\n",
       "      <td>0.596567</td>\n",
       "      <td>0.573999</td>\n",
       "    </tr>\n",
       "    <tr>\n",
       "      <th>3</th>\n",
       "      <td>0.581275</td>\n",
       "      <td>0.563065</td>\n",
       "    </tr>\n",
       "    <tr>\n",
       "      <th>4</th>\n",
       "      <td>0.506088</td>\n",
       "      <td>0.504933</td>\n",
       "    </tr>\n",
       "    <tr>\n",
       "      <th>5</th>\n",
       "      <td>0.697010</td>\n",
       "      <td>0.689159</td>\n",
       "    </tr>\n",
       "    <tr>\n",
       "      <th>6</th>\n",
       "      <td>0.647965</td>\n",
       "      <td>0.678684</td>\n",
       "    </tr>\n",
       "    <tr>\n",
       "      <th>7</th>\n",
       "      <td>0.642339</td>\n",
       "      <td>0.618890</td>\n",
       "    </tr>\n",
       "    <tr>\n",
       "      <th>8</th>\n",
       "      <td>0.584741</td>\n",
       "      <td>0.548880</td>\n",
       "    </tr>\n",
       "    <tr>\n",
       "      <th>9</th>\n",
       "      <td>0.594248</td>\n",
       "      <td>0.587241</td>\n",
       "    </tr>\n",
       "    <tr>\n",
       "      <th>10</th>\n",
       "      <td>0.559354</td>\n",
       "      <td>0.571299</td>\n",
       "    </tr>\n",
       "    <tr>\n",
       "      <th>11</th>\n",
       "      <td>0.596799</td>\n",
       "      <td>0.595513</td>\n",
       "    </tr>\n",
       "    <tr>\n",
       "      <th>12</th>\n",
       "      <td>0.626325</td>\n",
       "      <td>0.616796</td>\n",
       "    </tr>\n",
       "    <tr>\n",
       "      <th>13</th>\n",
       "      <td>0.626340</td>\n",
       "      <td>0.622575</td>\n",
       "    </tr>\n",
       "    <tr>\n",
       "      <th>14</th>\n",
       "      <td>0.574113</td>\n",
       "      <td>0.589089</td>\n",
       "    </tr>\n",
       "    <tr>\n",
       "      <th>15</th>\n",
       "      <td>0.615976</td>\n",
       "      <td>0.607304</td>\n",
       "    </tr>\n",
       "    <tr>\n",
       "      <th>16</th>\n",
       "      <td>0.818616</td>\n",
       "      <td>0.819785</td>\n",
       "    </tr>\n",
       "    <tr>\n",
       "      <th>17</th>\n",
       "      <td>0.603126</td>\n",
       "      <td>0.597525</td>\n",
       "    </tr>\n",
       "  </tbody>\n",
       "</table>\n",
       "</div>"
      ],
      "text/plain": [
       "    OurResults  SmithResults\n",
       "0     0.557111      0.595413\n",
       "1     0.640002      0.607986\n",
       "2     0.596567      0.573999\n",
       "3     0.581275      0.563065\n",
       "4     0.506088      0.504933\n",
       "5     0.697010      0.689159\n",
       "6     0.647965      0.678684\n",
       "7     0.642339      0.618890\n",
       "8     0.584741      0.548880\n",
       "9     0.594248      0.587241\n",
       "10    0.559354      0.571299\n",
       "11    0.596799      0.595513\n",
       "12    0.626325      0.616796\n",
       "13    0.626340      0.622575\n",
       "14    0.574113      0.589089\n",
       "15    0.615976      0.607304\n",
       "16    0.818616      0.819785\n",
       "17    0.603126      0.597525"
      ]
     },
     "execution_count": 12,
     "metadata": {},
     "output_type": "execute_result"
    }
   ],
   "source": [
    "sns_data"
   ]
  },
  {
   "cell_type": "code",
   "execution_count": 24,
   "metadata": {},
   "outputs": [
    {
     "data": {
      "image/png": "[encoded data removed]",
      "text/plain": [
       "<Figure size 576x432 with 1 Axes>"
      ]
     },
     "metadata": {
      "needs_background": "light"
     },
     "output_type": "display_data"
    }
   ],
   "source": [
    "plt.rcParams['figure.figsize'] = 8.0, 6.0\n",
    "plt.rcParams['font.size'] = 12.0\n",
    "sns.regplot(data=sns_data, x=\"SmithResults\", y=\"OurResults\")\n",
    "plt.title('Results comparison for KNN');"
   ]
  },
  {
   "cell_type": "code",
   "execution_count": 25,
   "metadata": {},
   "outputs": [],
   "source": [
    "# test for bias\n",
    "from scipy.stats import ttest_rel"
   ]
  },
  {
   "cell_type": "code",
   "execution_count": 26,
   "metadata": {},
   "outputs": [
    {
     "data": {
      "text/plain": [
       "Ttest_relResult(statistic=-0.9662183504510224, pvalue=0.34748034892897217)"
      ]
     },
     "execution_count": 26,
     "metadata": {},
     "output_type": "execute_result"
    }
   ],
   "source": [
    "ttest_rel(a=sns_data['SmithResults'], b=sns_data['OurResults'])"
   ]
  },
  {
   "cell_type": "code",
   "execution_count": 29,
   "metadata": {},
   "outputs": [],
   "source": [
    "# no bias present"
   ]
  },
  {
   "cell_type": "code",
   "execution_count": 27,
   "metadata": {},
   "outputs": [],
   "source": [
    "sns_data['Differences'] = sns_data['OurResults'] - sns_data['SmithResults']\n",
    "sns_data['Task'] = tcga_results_knn['task']"
   ]
  },
  {
   "cell_type": "code",
   "execution_count": 28,
   "metadata": {},
   "outputs": [
    {
     "data": {
      "image/png": "[encoded data removed]",
      "text/plain": [
       "<Figure size 576x432 with 1 Axes>"
      ]
     },
     "metadata": {
      "needs_background": "light"
     },
     "output_type": "display_data"
    }
   ],
   "source": [
    "plt.scatter(x=sns_data['Task'], y=sns_data['Differences'])\n",
    "plt.xticks(rotation=90);\n",
    "plt.title(\"Differences between performance estimates\");"
   ]
  },
  {
   "cell_type": "code",
   "execution_count": null,
   "metadata": {},
   "outputs": [],
   "source": []
  }
 ],
 "metadata": {
  "kernelspec": {
   "display_name": "Python 3",
   "language": "python",
   "name": "python3"
  },
  "language_info": {
   "codemirror_mode": {
    "name": "ipython",
    "version": 3
   },
   "file_extension": ".py",
   "mimetype": "text/x-python",
   "name": "python",
   "nbconvert_exporter": "python",
   "pygments_lexer": "ipython3",
   "version": "3.6.9"
  }
 },
 "nbformat": 4,
 "nbformat_minor": 4
}
