{
 "cells": [
  {
   "cell_type": "markdown",
   "metadata": {},
   "source": [
    "# KNN Results Comparison"
   ]
  },
  {
   "cell_type": "code",
   "execution_count": 64,
   "metadata": {},
   "outputs": [],
   "source": [
    "import matplotlib.pyplot as plt\n",
    "import pandas as pd\n",
    "import seaborn as sns"
   ]
  },
  {
   "cell_type": "code",
   "execution_count": 39,
   "metadata": {},
   "outputs": [],
   "source": [
    "smith_results = pd.read_csv(\"./results/representation_learning_transcriptomics_results.csv\")\n",
    "tcga_classification_tasks = pd.read_csv(\"./data_utilities/tcga_classification_tasks.csv\")\n",
    "tcga_results_knn = pd.read_csv(\"./results/tcga_results.csv\")"
   ]
  },
  {
   "cell_type": "code",
   "execution_count": 40,
   "metadata": {},
   "outputs": [],
   "source": [
    "binary = smith_results['label_type'] == 'binary'\n",
    "knn = smith_results['supervised_model'] == 'k nearest neighbor'\n",
    "no_embedding = smith_results['unsupervised_model'] == 'no embedding'\n",
    "gene_set = smith_results['gene_set'] == 'all'\n",
    "norm = smith_results['normalization'] == 'clr'\n",
    "tcga = [\"GSE\" not in e for e in smith_results['task']]"
   ]
  },
  {
   "cell_type": "code",
   "execution_count": 41,
   "metadata": {},
   "outputs": [],
   "source": [
    "tcga_results_smith = smith_results[binary & knn & no_embedding & gene_set & norm & tcga]"
   ]
  },
  {
   "cell_type": "code",
   "execution_count": 44,
   "metadata": {},
   "outputs": [],
   "source": [
    "def create_task(filename):\n",
    "    cancer, task = filename.split('_')[3:5]\n",
    "    class_ = task.split('.')[0]\n",
    "    return (\" \".join([cancer, class_]))"
   ]
  },
  {
   "cell_type": "code",
   "execution_count": 45,
   "metadata": {},
   "outputs": [],
   "source": [
    "tcga_results_knn['task'] = [create_task(f) for f in tcga_classification_tasks['filename']]"
   ]
  },
  {
   "cell_type": "code",
   "execution_count": 46,
   "metadata": {},
   "outputs": [
    {
     "data": {
      "text/html": [
       "<div>\n",
       "<style scoped>\n",
       "    .dataframe tbody tr th:only-of-type {\n",
       "        vertical-align: middle;\n",
       "    }\n",
       "\n",
       "    .dataframe tbody tr th {\n",
       "        vertical-align: top;\n",
       "    }\n",
       "\n",
       "    .dataframe thead th {\n",
       "        text-align: right;\n",
       "    }\n",
       "</style>\n",
       "<table border=\"1\" class=\"dataframe\">\n",
       "  <thead>\n",
       "    <tr style=\"text-align: right;\">\n",
       "      <th></th>\n",
       "      <th>unsupervised_model</th>\n",
       "      <th>supervised_model</th>\n",
       "      <th>gene_set</th>\n",
       "      <th>normalization</th>\n",
       "      <th>task</th>\n",
       "      <th>group</th>\n",
       "      <th>label_type</th>\n",
       "      <th>num_genes</th>\n",
       "      <th>num_features</th>\n",
       "      <th>num_samples</th>\n",
       "      <th>num_classes</th>\n",
       "      <th>score</th>\n",
       "      <th>score_units</th>\n",
       "    </tr>\n",
       "  </thead>\n",
       "  <tbody>\n",
       "    <tr>\n",
       "      <th>601</th>\n",
       "      <td>no embedding</td>\n",
       "      <td>k nearest neighbor</td>\n",
       "      <td>all</td>\n",
       "      <td>clr</td>\n",
       "      <td>STAD stage</td>\n",
       "      <td>train</td>\n",
       "      <td>binary</td>\n",
       "      <td>57992</td>\n",
       "      <td>57992</td>\n",
       "      <td>416</td>\n",
       "      <td>2</td>\n",
       "      <td>0.589089</td>\n",
       "      <td>AUC</td>\n",
       "    </tr>\n",
       "    <tr>\n",
       "      <th>602</th>\n",
       "      <td>no embedding</td>\n",
       "      <td>k nearest neighbor</td>\n",
       "      <td>all</td>\n",
       "      <td>clr</td>\n",
       "      <td>KIRC grade</td>\n",
       "      <td>train</td>\n",
       "      <td>binary</td>\n",
       "      <td>57992</td>\n",
       "      <td>57992</td>\n",
       "      <td>544</td>\n",
       "      <td>2</td>\n",
       "      <td>0.504933</td>\n",
       "      <td>AUC</td>\n",
       "    </tr>\n",
       "    <tr>\n",
       "      <th>603</th>\n",
       "      <td>no embedding</td>\n",
       "      <td>k nearest neighbor</td>\n",
       "      <td>all</td>\n",
       "      <td>clr</td>\n",
       "      <td>LUSC stage</td>\n",
       "      <td>validate</td>\n",
       "      <td>binary</td>\n",
       "      <td>57992</td>\n",
       "      <td>57992</td>\n",
       "      <td>504</td>\n",
       "      <td>2</td>\n",
       "      <td>0.571299</td>\n",
       "      <td>AUC</td>\n",
       "    </tr>\n",
       "    <tr>\n",
       "      <th>604</th>\n",
       "      <td>no embedding</td>\n",
       "      <td>k nearest neighbor</td>\n",
       "      <td>all</td>\n",
       "      <td>clr</td>\n",
       "      <td>PAAD grade</td>\n",
       "      <td>train</td>\n",
       "      <td>binary</td>\n",
       "      <td>57992</td>\n",
       "      <td>57992</td>\n",
       "      <td>179</td>\n",
       "      <td>2</td>\n",
       "      <td>0.595513</td>\n",
       "      <td>AUC</td>\n",
       "    </tr>\n",
       "    <tr>\n",
       "      <th>605</th>\n",
       "      <td>no embedding</td>\n",
       "      <td>k nearest neighbor</td>\n",
       "      <td>all</td>\n",
       "      <td>clr</td>\n",
       "      <td>BRCA stage</td>\n",
       "      <td>test</td>\n",
       "      <td>binary</td>\n",
       "      <td>57992</td>\n",
       "      <td>57992</td>\n",
       "      <td>1134</td>\n",
       "      <td>2</td>\n",
       "      <td>0.595413</td>\n",
       "      <td>AUC</td>\n",
       "    </tr>\n",
       "  </tbody>\n",
       "</table>\n",
       "</div>"
      ],
      "text/plain": [
       "    unsupervised_model    supervised_model gene_set normalization        task  \\\n",
       "601       no embedding  k nearest neighbor      all           clr  STAD stage   \n",
       "602       no embedding  k nearest neighbor      all           clr  KIRC grade   \n",
       "603       no embedding  k nearest neighbor      all           clr  LUSC stage   \n",
       "604       no embedding  k nearest neighbor      all           clr  PAAD grade   \n",
       "605       no embedding  k nearest neighbor      all           clr  BRCA stage   \n",
       "\n",
       "        group label_type  num_genes  num_features  num_samples  num_classes  \\\n",
       "601     train     binary      57992         57992          416            2   \n",
       "602     train     binary      57992         57992          544            2   \n",
       "603  validate     binary      57992         57992          504            2   \n",
       "604     train     binary      57992         57992          179            2   \n",
       "605      test     binary      57992         57992         1134            2   \n",
       "\n",
       "        score score_units  \n",
       "601  0.589089         AUC  \n",
       "602  0.504933         AUC  \n",
       "603  0.571299         AUC  \n",
       "604  0.595513         AUC  \n",
       "605  0.595413         AUC  "
      ]
     },
     "execution_count": 46,
     "metadata": {},
     "output_type": "execute_result"
    }
   ],
   "source": [
    "tcga_results_smith.head()"
   ]
  },
  {
   "cell_type": "code",
   "execution_count": 50,
   "metadata": {},
   "outputs": [
    {
     "name": "stderr",
     "output_type": "stream",
     "text": [
      "/usr/local/lib/python3.6/dist-packages/ipykernel_launcher.py:2: SettingWithCopyWarning: \n",
      "A value is trying to be set on a copy of a slice from a DataFrame\n",
      "\n",
      "See the caveats in the documentation: http://pandas.pydata.org/pandas-docs/stable/indexing.html#indexing-view-versus-copy\n",
      "  \n"
     ]
    }
   ],
   "source": [
    "tcga_results_knn.sort_values(by='task', inplace=True)\n",
    "tcga_results_smith.sort_values(by='task', inplace=True)"
   ]
  },
  {
   "cell_type": "code",
   "execution_count": 62,
   "metadata": {},
   "outputs": [
    {
     "data": {
      "text/plain": [
       "True"
      ]
     },
     "execution_count": 62,
     "metadata": {},
     "output_type": "execute_result"
    }
   ],
   "source": [
    "# check they are aligned correctly\n",
    "all( [a == b for a,b in zip(tcga_results_smith['task'], tcga_results_knn['task'])] )"
   ]
  },
  {
   "cell_type": "code",
   "execution_count": 73,
   "metadata": {},
   "outputs": [],
   "source": [
    "sns_data = pd.DataFrame()\n",
    "sns_data['OurResults'] = tcga_results_knn['results'].values\n",
    "sns_data['SmithResults'] = tcga_results_smith['score'].values"
   ]
  },
  {
   "cell_type": "code",
   "execution_count": 88,
   "metadata": {},
   "outputs": [
    {
     "data": {
      "image/png": "[encoded data removed]",
      "text/plain": [
       "<Figure size 576x432 with 1 Axes>"
      ]
     },
     "metadata": {
      "needs_background": "light"
     },
     "output_type": "display_data"
    }
   ],
   "source": [
    "plt.rcParams['figure.figsize'] = 8.0, 6.0\n",
    "plt.rcParams['font.size'] = 12.0\n",
    "sns.regplot(data=sns_data, x=\"SmithResults\", y=\"OurResults\")\n",
    "plt.title('Results comparison for KNN');"
   ]
  },
  {
   "cell_type": "code",
   "execution_count": null,
   "metadata": {},
   "outputs": [],
   "source": []
  }
 ],
 "metadata": {
  "kernelspec": {
   "display_name": "Python 3",
   "language": "python",
   "name": "python3"
  },
  "language_info": {
   "codemirror_mode": {
    "name": "ipython",
    "version": 3
   },
   "file_extension": ".py",
   "mimetype": "text/x-python",
   "name": "python",
   "nbconvert_exporter": "python",
   "pygments_lexer": "ipython3",
   "version": "3.6.9"
  }
 },
 "nbformat": 4,
 "nbformat_minor": 4
}
