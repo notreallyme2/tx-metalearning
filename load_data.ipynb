{
 "cells": [
  {
   "cell_type": "markdown",
   "metadata": {},
   "source": [
    "# Load Pfizer paper Tx data\n",
    "Load and explore the Pfizer Tx data from the recount2 database"
   ]
  },
  {
   "cell_type": "code",
   "execution_count": 19,
   "metadata": {},
   "outputs": [],
   "source": [
    "import os\n",
    "from pathlib import Path\n",
    "import pandas as pd\n",
    "import torch\n",
    "from utilities import hdf_keys"
   ]
  },
  {
   "cell_type": "code",
   "execution_count": 5,
   "metadata": {},
   "outputs": [],
   "source": [
    "DATA_PATH = Path(\"/data/pfizer_tx\")"
   ]
  },
  {
   "cell_type": "markdown",
   "metadata": {},
   "source": [
    "Start with the classification problems, training data only."
   ]
  },
  {
   "cell_type": "code",
   "execution_count": 6,
   "metadata": {},
   "outputs": [],
   "source": [
    "all_train_files = [f for f in os.listdir(DATA_PATH/\"tasks_all_clr\") if 'train'in f]"
   ]
  },
  {
   "cell_type": "code",
   "execution_count": 8,
   "metadata": {},
   "outputs": [],
   "source": [
    "# only the time series data have a /censor_labels key\n",
    "all_classification_files = [f for f in all_train_files if '/censor_labels' not in hdf_keys(DATA_PATH/\"tasks_all_clr\"/f)]"
   ]
  },
  {
   "cell_type": "markdown",
   "metadata": {},
   "source": [
    "If you get the following error:\n",
    "```bash\n",
    "ImportError HDFStore requires PyTables No module named tables\n",
    "```\n",
    "then ```pip install --upgrade tables```"
   ]
  },
  {
   "cell_type": "code",
   "execution_count": 9,
   "metadata": {},
   "outputs": [
    {
     "data": {
      "text/plain": [
       "['all_clr_train_LUAD_stage.h5',\n",
       " 'all_clr_train_GSE65832.h5',\n",
       " 'all_clr_train_CESC_grade.h5',\n",
       " 'all_clr_train_COAD_stage.h5',\n",
       " 'all_clr_train_SKCM_stage.h5',\n",
       " 'all_clr_train_UCEC_stage.h5',\n",
       " 'all_clr_train_PAAD_grade.h5',\n",
       " 'all_clr_train_UCEC_grade.h5',\n",
       " 'all_clr_train_GSE66207.h5',\n",
       " 'all_clr_train_LIHC_grade.h5',\n",
       " 'all_clr_train_KIRC_grade.h5',\n",
       " 'all_clr_train_LIHC_stage.h5',\n",
       " 'all_clr_train_STAD_grade.h5',\n",
       " 'all_clr_train_STAD_stage.h5',\n",
       " 'all_clr_train_KIRC_stage.h5',\n",
       " 'all_clr_train_LGG_grade.h5',\n",
       " 'all_clr_train_THCA_stage.h5']"
      ]
     },
     "execution_count": 9,
     "metadata": {},
     "output_type": "execute_result"
    }
   ],
   "source": [
    "all_classification_files"
   ]
  },
  {
   "cell_type": "code",
   "execution_count": 10,
   "metadata": {},
   "outputs": [
    {
     "name": "stdout",
     "output_type": "stream",
     "text": [
      "['/expression', '/labels']\n"
     ]
    }
   ],
   "source": [
    "test_DATA_PATH = DATA_PATH/\"tasks_all_clr\"/all_classification_files[0]\n",
    "keys = hdf_keys(test_DATA_PATH)\n",
    "print(keys)\n",
    "test_data = {key : pd.read_hdf(DATA_PATH/\"tasks_all_clr/all_clr_train_CESC_OS.h5\", key = key) for key in keys}"
   ]
  },
  {
   "cell_type": "code",
   "execution_count": 11,
   "metadata": {},
   "outputs": [
    {
     "data": {
      "text/plain": [
       "(304, 57992)"
      ]
     },
     "execution_count": 11,
     "metadata": {},
     "output_type": "execute_result"
    }
   ],
   "source": [
    "test_data['/expression'].shape"
   ]
  },
  {
   "cell_type": "code",
   "execution_count": 12,
   "metadata": {},
   "outputs": [
    {
     "data": {
      "text/html": [
       "<div>\n",
       "<style scoped>\n",
       "    .dataframe tbody tr th:only-of-type {\n",
       "        vertical-align: middle;\n",
       "    }\n",
       "\n",
       "    .dataframe tbody tr th {\n",
       "        vertical-align: top;\n",
       "    }\n",
       "\n",
       "    .dataframe thead th {\n",
       "        text-align: right;\n",
       "    }\n",
       "</style>\n",
       "<table border=\"1\" class=\"dataframe\">\n",
       "  <thead>\n",
       "    <tr style=\"text-align: right;\">\n",
       "      <th></th>\n",
       "      <th>ENSG00000000003</th>\n",
       "      <th>ENSG00000000005</th>\n",
       "      <th>ENSG00000000419</th>\n",
       "      <th>ENSG00000000457</th>\n",
       "      <th>ENSG00000000460</th>\n",
       "      <th>ENSG00000000938</th>\n",
       "      <th>ENSG00000000971</th>\n",
       "      <th>ENSG00000001036</th>\n",
       "      <th>ENSG00000001084</th>\n",
       "      <th>ENSG00000001167</th>\n",
       "      <th>...</th>\n",
       "      <th>ENSG00000283690</th>\n",
       "      <th>ENSG00000283691</th>\n",
       "      <th>ENSG00000283692</th>\n",
       "      <th>ENSG00000283693</th>\n",
       "      <th>ENSG00000283694</th>\n",
       "      <th>ENSG00000283695</th>\n",
       "      <th>ENSG00000283696</th>\n",
       "      <th>ENSG00000283697</th>\n",
       "      <th>ENSG00000283698</th>\n",
       "      <th>ENSG00000283699</th>\n",
       "    </tr>\n",
       "    <tr>\n",
       "      <th>recount_index</th>\n",
       "      <th></th>\n",
       "      <th></th>\n",
       "      <th></th>\n",
       "      <th></th>\n",
       "      <th></th>\n",
       "      <th></th>\n",
       "      <th></th>\n",
       "      <th></th>\n",
       "      <th></th>\n",
       "      <th></th>\n",
       "      <th></th>\n",
       "      <th></th>\n",
       "      <th></th>\n",
       "      <th></th>\n",
       "      <th></th>\n",
       "      <th></th>\n",
       "      <th></th>\n",
       "      <th></th>\n",
       "      <th></th>\n",
       "      <th></th>\n",
       "      <th></th>\n",
       "    </tr>\n",
       "  </thead>\n",
       "  <tbody>\n",
       "    <tr>\n",
       "      <th>7826AE44-B03A-4528-9CB5-7421E592AE36</th>\n",
       "      <td>7.273254</td>\n",
       "      <td>-1.611177</td>\n",
       "      <td>7.671172</td>\n",
       "      <td>5.144625</td>\n",
       "      <td>5.185823</td>\n",
       "      <td>5.244084</td>\n",
       "      <td>6.181699</td>\n",
       "      <td>6.734401</td>\n",
       "      <td>5.739017</td>\n",
       "      <td>5.816485</td>\n",
       "      <td>...</td>\n",
       "      <td>-7.115629</td>\n",
       "      <td>1.414801</td>\n",
       "      <td>-7.115629</td>\n",
       "      <td>-7.115629</td>\n",
       "      <td>2.053952</td>\n",
       "      <td>-7.115629</td>\n",
       "      <td>2.813278</td>\n",
       "      <td>3.283886</td>\n",
       "      <td>-7.115629</td>\n",
       "      <td>-7.115629</td>\n",
       "    </tr>\n",
       "    <tr>\n",
       "      <th>0DC2197B-2FEA-48EB-953E-8E44E1933757</th>\n",
       "      <td>7.131861</td>\n",
       "      <td>-7.616766</td>\n",
       "      <td>8.530928</td>\n",
       "      <td>5.724083</td>\n",
       "      <td>6.249423</td>\n",
       "      <td>6.307812</td>\n",
       "      <td>5.995008</td>\n",
       "      <td>8.145520</td>\n",
       "      <td>6.313583</td>\n",
       "      <td>6.388412</td>\n",
       "      <td>...</td>\n",
       "      <td>-7.616766</td>\n",
       "      <td>-7.616766</td>\n",
       "      <td>-3.840906</td>\n",
       "      <td>-7.616766</td>\n",
       "      <td>-7.616766</td>\n",
       "      <td>-7.616766</td>\n",
       "      <td>4.019502</td>\n",
       "      <td>4.344022</td>\n",
       "      <td>-0.568187</td>\n",
       "      <td>-7.616766</td>\n",
       "    </tr>\n",
       "    <tr>\n",
       "      <th>87ABB098-8C1E-4677-8C31-48B71EFE41C7</th>\n",
       "      <td>6.169603</td>\n",
       "      <td>-0.467976</td>\n",
       "      <td>7.849034</td>\n",
       "      <td>5.239840</td>\n",
       "      <td>5.358871</td>\n",
       "      <td>4.764959</td>\n",
       "      <td>3.230250</td>\n",
       "      <td>7.450602</td>\n",
       "      <td>5.209594</td>\n",
       "      <td>6.550502</td>\n",
       "      <td>...</td>\n",
       "      <td>-6.946502</td>\n",
       "      <td>1.699340</td>\n",
       "      <td>-2.435826</td>\n",
       "      <td>-6.946502</td>\n",
       "      <td>2.351666</td>\n",
       "      <td>-6.946502</td>\n",
       "      <td>4.606699</td>\n",
       "      <td>3.196548</td>\n",
       "      <td>-6.946502</td>\n",
       "      <td>-6.946502</td>\n",
       "    </tr>\n",
       "    <tr>\n",
       "      <th>EC0154E7-7A27-4535-83AE-6B379E99A93C</th>\n",
       "      <td>6.276552</td>\n",
       "      <td>-6.554893</td>\n",
       "      <td>7.069809</td>\n",
       "      <td>5.844858</td>\n",
       "      <td>5.788549</td>\n",
       "      <td>5.371618</td>\n",
       "      <td>5.892911</td>\n",
       "      <td>7.027828</td>\n",
       "      <td>6.333499</td>\n",
       "      <td>6.096078</td>\n",
       "      <td>...</td>\n",
       "      <td>-6.554893</td>\n",
       "      <td>3.389995</td>\n",
       "      <td>-6.554893</td>\n",
       "      <td>-6.554893</td>\n",
       "      <td>1.539687</td>\n",
       "      <td>3.017501</td>\n",
       "      <td>5.335064</td>\n",
       "      <td>3.978409</td>\n",
       "      <td>-0.323640</td>\n",
       "      <td>-6.554893</td>\n",
       "    </tr>\n",
       "    <tr>\n",
       "      <th>78F79407-D49F-4FA2-B09F-0665C502827C</th>\n",
       "      <td>5.976701</td>\n",
       "      <td>-0.718647</td>\n",
       "      <td>7.741823</td>\n",
       "      <td>5.134561</td>\n",
       "      <td>5.467024</td>\n",
       "      <td>4.976366</td>\n",
       "      <td>6.277791</td>\n",
       "      <td>6.645078</td>\n",
       "      <td>5.786737</td>\n",
       "      <td>5.958712</td>\n",
       "      <td>...</td>\n",
       "      <td>-6.736251</td>\n",
       "      <td>1.955487</td>\n",
       "      <td>-6.736251</td>\n",
       "      <td>0.370077</td>\n",
       "      <td>-6.736251</td>\n",
       "      <td>-6.736251</td>\n",
       "      <td>4.326674</td>\n",
       "      <td>3.529664</td>\n",
       "      <td>-6.736251</td>\n",
       "      <td>-6.736251</td>\n",
       "    </tr>\n",
       "  </tbody>\n",
       "</table>\n",
       "<p>5 rows × 57992 columns</p>\n",
       "</div>"
      ],
      "text/plain": [
       "                                      ENSG00000000003  ENSG00000000005  \\\n",
       "recount_index                                                            \n",
       "7826AE44-B03A-4528-9CB5-7421E592AE36         7.273254        -1.611177   \n",
       "0DC2197B-2FEA-48EB-953E-8E44E1933757         7.131861        -7.616766   \n",
       "87ABB098-8C1E-4677-8C31-48B71EFE41C7         6.169603        -0.467976   \n",
       "EC0154E7-7A27-4535-83AE-6B379E99A93C         6.276552        -6.554893   \n",
       "78F79407-D49F-4FA2-B09F-0665C502827C         5.976701        -0.718647   \n",
       "\n",
       "                                      ENSG00000000419  ENSG00000000457  \\\n",
       "recount_index                                                            \n",
       "7826AE44-B03A-4528-9CB5-7421E592AE36         7.671172         5.144625   \n",
       "0DC2197B-2FEA-48EB-953E-8E44E1933757         8.530928         5.724083   \n",
       "87ABB098-8C1E-4677-8C31-48B71EFE41C7         7.849034         5.239840   \n",
       "EC0154E7-7A27-4535-83AE-6B379E99A93C         7.069809         5.844858   \n",
       "78F79407-D49F-4FA2-B09F-0665C502827C         7.741823         5.134561   \n",
       "\n",
       "                                      ENSG00000000460  ENSG00000000938  \\\n",
       "recount_index                                                            \n",
       "7826AE44-B03A-4528-9CB5-7421E592AE36         5.185823         5.244084   \n",
       "0DC2197B-2FEA-48EB-953E-8E44E1933757         6.249423         6.307812   \n",
       "87ABB098-8C1E-4677-8C31-48B71EFE41C7         5.358871         4.764959   \n",
       "EC0154E7-7A27-4535-83AE-6B379E99A93C         5.788549         5.371618   \n",
       "78F79407-D49F-4FA2-B09F-0665C502827C         5.467024         4.976366   \n",
       "\n",
       "                                      ENSG00000000971  ENSG00000001036  \\\n",
       "recount_index                                                            \n",
       "7826AE44-B03A-4528-9CB5-7421E592AE36         6.181699         6.734401   \n",
       "0DC2197B-2FEA-48EB-953E-8E44E1933757         5.995008         8.145520   \n",
       "87ABB098-8C1E-4677-8C31-48B71EFE41C7         3.230250         7.450602   \n",
       "EC0154E7-7A27-4535-83AE-6B379E99A93C         5.892911         7.027828   \n",
       "78F79407-D49F-4FA2-B09F-0665C502827C         6.277791         6.645078   \n",
       "\n",
       "                                      ENSG00000001084  ENSG00000001167  ...  \\\n",
       "recount_index                                                           ...   \n",
       "7826AE44-B03A-4528-9CB5-7421E592AE36         5.739017         5.816485  ...   \n",
       "0DC2197B-2FEA-48EB-953E-8E44E1933757         6.313583         6.388412  ...   \n",
       "87ABB098-8C1E-4677-8C31-48B71EFE41C7         5.209594         6.550502  ...   \n",
       "EC0154E7-7A27-4535-83AE-6B379E99A93C         6.333499         6.096078  ...   \n",
       "78F79407-D49F-4FA2-B09F-0665C502827C         5.786737         5.958712  ...   \n",
       "\n",
       "                                      ENSG00000283690  ENSG00000283691  \\\n",
       "recount_index                                                            \n",
       "7826AE44-B03A-4528-9CB5-7421E592AE36        -7.115629         1.414801   \n",
       "0DC2197B-2FEA-48EB-953E-8E44E1933757        -7.616766        -7.616766   \n",
       "87ABB098-8C1E-4677-8C31-48B71EFE41C7        -6.946502         1.699340   \n",
       "EC0154E7-7A27-4535-83AE-6B379E99A93C        -6.554893         3.389995   \n",
       "78F79407-D49F-4FA2-B09F-0665C502827C        -6.736251         1.955487   \n",
       "\n",
       "                                      ENSG00000283692  ENSG00000283693  \\\n",
       "recount_index                                                            \n",
       "7826AE44-B03A-4528-9CB5-7421E592AE36        -7.115629        -7.115629   \n",
       "0DC2197B-2FEA-48EB-953E-8E44E1933757        -3.840906        -7.616766   \n",
       "87ABB098-8C1E-4677-8C31-48B71EFE41C7        -2.435826        -6.946502   \n",
       "EC0154E7-7A27-4535-83AE-6B379E99A93C        -6.554893        -6.554893   \n",
       "78F79407-D49F-4FA2-B09F-0665C502827C        -6.736251         0.370077   \n",
       "\n",
       "                                      ENSG00000283694  ENSG00000283695  \\\n",
       "recount_index                                                            \n",
       "7826AE44-B03A-4528-9CB5-7421E592AE36         2.053952        -7.115629   \n",
       "0DC2197B-2FEA-48EB-953E-8E44E1933757        -7.616766        -7.616766   \n",
       "87ABB098-8C1E-4677-8C31-48B71EFE41C7         2.351666        -6.946502   \n",
       "EC0154E7-7A27-4535-83AE-6B379E99A93C         1.539687         3.017501   \n",
       "78F79407-D49F-4FA2-B09F-0665C502827C        -6.736251        -6.736251   \n",
       "\n",
       "                                      ENSG00000283696  ENSG00000283697  \\\n",
       "recount_index                                                            \n",
       "7826AE44-B03A-4528-9CB5-7421E592AE36         2.813278         3.283886   \n",
       "0DC2197B-2FEA-48EB-953E-8E44E1933757         4.019502         4.344022   \n",
       "87ABB098-8C1E-4677-8C31-48B71EFE41C7         4.606699         3.196548   \n",
       "EC0154E7-7A27-4535-83AE-6B379E99A93C         5.335064         3.978409   \n",
       "78F79407-D49F-4FA2-B09F-0665C502827C         4.326674         3.529664   \n",
       "\n",
       "                                      ENSG00000283698  ENSG00000283699  \n",
       "recount_index                                                           \n",
       "7826AE44-B03A-4528-9CB5-7421E592AE36        -7.115629        -7.115629  \n",
       "0DC2197B-2FEA-48EB-953E-8E44E1933757        -0.568187        -7.616766  \n",
       "87ABB098-8C1E-4677-8C31-48B71EFE41C7        -6.946502        -6.946502  \n",
       "EC0154E7-7A27-4535-83AE-6B379E99A93C        -0.323640        -6.554893  \n",
       "78F79407-D49F-4FA2-B09F-0665C502827C        -6.736251        -6.736251  \n",
       "\n",
       "[5 rows x 57992 columns]"
      ]
     },
     "execution_count": 12,
     "metadata": {},
     "output_type": "execute_result"
    }
   ],
   "source": [
    "test_data['/expression'].head()"
   ]
  },
  {
   "cell_type": "markdown",
   "metadata": {},
   "source": [
    "Let's see if we have enough memory for the unsupervised data"
   ]
  },
  {
   "cell_type": "code",
   "execution_count": 14,
   "metadata": {},
   "outputs": [
    {
     "name": "stdout",
     "output_type": "stream",
     "text": [
      "total 9GiB\n",
      "drwxrwxr-x 4 ubuntu ubuntu 1GiB Apr 28 14:18 .\n",
      "drwxrwxrwx 5 root   root   1GiB May  1 10:11 ..\n",
      "-rw-rw-r-- 1 ubuntu ubuntu 1GiB Apr 26 09:30 CC-BY-4.0-license.txt\n",
      "-rw-rw-r-- 1 ubuntu ubuntu 1GiB Apr 26 09:30 README.md\n",
      "-rw-rw-r-- 1 ubuntu ubuntu 1GiB Mar  8  2019 tasks_README.md\n",
      "drwxr-xr-x 2 ubuntu ubuntu 1GiB Mar  7  2019 tasks_all_clr\n",
      "drwxrwxr-x 3 ubuntu ubuntu 1GiB Apr 28 14:18 torch-templates\n",
      "-rw-rw-r-- 1 ubuntu ubuntu 1GiB Mar  8  2019 unsupervised_README.md\n",
      "-rw-rw-r-- 1 ubuntu ubuntu 9GiB Apr 28 14:13 unsupervised_all_clr_train.h5\n",
      "-rw-rw-r-- 1 ubuntu ubuntu 1GiB Apr 28 14:12 unsupervised_all_clr_train.hd5\n"
     ]
    }
   ],
   "source": [
    "!ls -la --block-size=GiB /data/pfizer_tx/\n",
    "# we'll need > 9 GiB of memory to load it all. p2.xlarge has 61 GiB"
   ]
  },
  {
   "cell_type": "code",
   "execution_count": 17,
   "metadata": {},
   "outputs": [],
   "source": [
    "unsupervised_DATA_PATH = DATA_PATH/\"unsupervised_all_clr_train.h5\"\n",
    "keys = hdf_keys(unsupervised_DATA_PATH)"
   ]
  },
  {
   "cell_type": "code",
   "execution_count": 18,
   "metadata": {},
   "outputs": [
    {
     "data": {
      "text/plain": [
       "['/metadata',\n",
       " '/expression/chunk_0',\n",
       " '/expression/chunk_1',\n",
       " '/expression/chunk_10',\n",
       " '/expression/chunk_11',\n",
       " '/expression/chunk_12',\n",
       " '/expression/chunk_13',\n",
       " '/expression/chunk_14',\n",
       " '/expression/chunk_15',\n",
       " '/expression/chunk_16',\n",
       " '/expression/chunk_17',\n",
       " '/expression/chunk_18',\n",
       " '/expression/chunk_19',\n",
       " '/expression/chunk_2',\n",
       " '/expression/chunk_20',\n",
       " '/expression/chunk_21',\n",
       " '/expression/chunk_22',\n",
       " '/expression/chunk_23',\n",
       " '/expression/chunk_24',\n",
       " '/expression/chunk_25',\n",
       " '/expression/chunk_26',\n",
       " '/expression/chunk_27',\n",
       " '/expression/chunk_28',\n",
       " '/expression/chunk_29',\n",
       " '/expression/chunk_3',\n",
       " '/expression/chunk_30',\n",
       " '/expression/chunk_31',\n",
       " '/expression/chunk_32',\n",
       " '/expression/chunk_33',\n",
       " '/expression/chunk_34',\n",
       " '/expression/chunk_35',\n",
       " '/expression/chunk_36',\n",
       " '/expression/chunk_37',\n",
       " '/expression/chunk_38',\n",
       " '/expression/chunk_39',\n",
       " '/expression/chunk_4',\n",
       " '/expression/chunk_40',\n",
       " '/expression/chunk_41',\n",
       " '/expression/chunk_42',\n",
       " '/expression/chunk_43',\n",
       " '/expression/chunk_44',\n",
       " '/expression/chunk_45',\n",
       " '/expression/chunk_46',\n",
       " '/expression/chunk_47',\n",
       " '/expression/chunk_48',\n",
       " '/expression/chunk_49',\n",
       " '/expression/chunk_5',\n",
       " '/expression/chunk_50',\n",
       " '/expression/chunk_51',\n",
       " '/expression/chunk_52',\n",
       " '/expression/chunk_53',\n",
       " '/expression/chunk_54',\n",
       " '/expression/chunk_55',\n",
       " '/expression/chunk_56',\n",
       " '/expression/chunk_57',\n",
       " '/expression/chunk_6',\n",
       " '/expression/chunk_7',\n",
       " '/expression/chunk_8',\n",
       " '/expression/chunk_9']"
      ]
     },
     "execution_count": 18,
     "metadata": {},
     "output_type": "execute_result"
    }
   ],
   "source": [
    "keys"
   ]
  },
  {
   "cell_type": "code",
   "execution_count": null,
   "metadata": {},
   "outputs": [],
   "source": []
  }
 ],
 "metadata": {
  "kernelspec": {
   "display_name": "Python 3",
   "language": "python",
   "name": "python3"
  },
  "language_info": {
   "codemirror_mode": {
    "name": "ipython",
    "version": 3
   },
   "file_extension": ".py",
   "mimetype": "text/x-python",
   "name": "python",
   "nbconvert_exporter": "python",
   "pygments_lexer": "ipython3",
   "version": "3.6.9"
  }
 },
 "nbformat": 4,
 "nbformat_minor": 4
}
