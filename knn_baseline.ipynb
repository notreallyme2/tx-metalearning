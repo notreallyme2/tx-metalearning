{
 "cells": [
  {
   "cell_type": "markdown",
   "metadata": {},
   "source": [
    "# KNN benchmark\n",
    "\n",
    "This notebook repeats the KNN benchmark reported in Smith et al."
   ]
  },
  {
   "cell_type": "code",
   "execution_count": 64,
   "metadata": {},
   "outputs": [],
   "source": [
    "import os\n",
    "from pathlib import Path\n",
    "import numpy as np\n",
    "import pandas as pd\n",
    "import sklearn as skl\n",
    "from sklearn.model_selection import KFold\n",
    "from sklearn.neighbors import KNeighborsClassifier as KNN\n",
    "from sklearn.metrics import roc_auc_score, accuracy_score\n",
    "import torch\n",
    "from utilities import hdf_keys"
   ]
  },
  {
   "cell_type": "code",
   "execution_count": 2,
   "metadata": {},
   "outputs": [],
   "source": [
    "DATA_PATH = Path(\"/data/pfizer_tx\")\n",
    "k = [1, 3, 5, 7, 9] # matches the search used in the original paper"
   ]
  },
  {
   "cell_type": "markdown",
   "metadata": {},
   "source": [
    "Benchmark classification tasks only"
   ]
  },
  {
   "cell_type": "code",
   "execution_count": 23,
   "metadata": {},
   "outputs": [],
   "source": [
    "classification_strings = ['stage', 'grade', 'GSE']\n",
    "all_classification_files = [f for f in os.listdir(DATA_PATH/\"tasks_all_clr\")\\\n",
    "                            if any([e in f for e in classification_strings])]"
   ]
  },
  {
   "cell_type": "markdown",
   "metadata": {},
   "source": [
    "Work up a cross-validated classifier on a trial dataset: `all_clr_train_LUAD_stage.h5`"
   ]
  },
  {
   "cell_type": "code",
   "execution_count": 24,
   "metadata": {},
   "outputs": [
    {
     "data": {
      "text/plain": [
       "'all_clr_train_LUAD_stage.h5'"
      ]
     },
     "execution_count": 24,
     "metadata": {},
     "output_type": "execute_result"
    }
   ],
   "source": [
    "all_classification_files[0]"
   ]
  },
  {
   "cell_type": "code",
   "execution_count": 25,
   "metadata": {},
   "outputs": [
    {
     "name": "stdout",
     "output_type": "stream",
     "text": [
      "['/expression', '/labels']\n"
     ]
    }
   ],
   "source": [
    "test_data_path = DATA_PATH/\"tasks_all_clr\"/all_classification_files[0]\n",
    "keys = hdf_keys(test_DATA_PATH)\n",
    "print(keys)\n",
    "test_data = {key : pd.read_hdf(test_data_path, key = key) for key in keys}"
   ]
  },
  {
   "cell_type": "code",
   "execution_count": 26,
   "metadata": {},
   "outputs": [],
   "source": [
    "outer = KFold(n_splits=5)\n",
    "inner = KFold(n_splits=5)"
   ]
  },
  {
   "cell_type": "code",
   "execution_count": 40,
   "metadata": {},
   "outputs": [],
   "source": [
    "knn = KNN(n_neighbors=10, n_jobs=-1)"
   ]
  },
  {
   "cell_type": "code",
   "execution_count": 41,
   "metadata": {},
   "outputs": [],
   "source": [
    "for train, valid in inner.split(test_data['/expression']):\n",
    "    pass"
   ]
  },
  {
   "cell_type": "markdown",
   "metadata": {},
   "source": [
    "`cross_val_score` is probably the easiest way to call the outer loop.  \n",
    "<https://scikit-learn.org/stable/modules/cross_validation.html#>\n",
    "```python\n",
    "from sklearn.model_selection import cross_val_score\n",
    "ilf = our_inner_loop_function\n",
    "scores = cross_val_score(ilf, X, y, cv=5)\n",
    "scores\n",
    "# array([0.96..., 1.  ..., 0.96..., 0.96..., 1.        ])\n",
    "```"
   ]
  },
  {
   "cell_type": "code",
   "execution_count": 42,
   "metadata": {},
   "outputs": [],
   "source": [
    "t, v = next(iter(inner.split(test_data['/expression'])))"
   ]
  },
  {
   "cell_type": "code",
   "execution_count": 43,
   "metadata": {},
   "outputs": [],
   "source": [
    "x_train, y_train, x_valid, y_valid = test_data['/expression'].iloc[t], test_data['/labels'].iloc[t],\\\n",
    "test_data['/expression'].iloc[v], test_data['/labels'].iloc[v]"
   ]
  },
  {
   "cell_type": "code",
   "execution_count": 44,
   "metadata": {},
   "outputs": [],
   "source": [
    "fitted_model1 = knn.fit(x_train, y_train)"
   ]
  },
  {
   "cell_type": "code",
   "execution_count": 59,
   "metadata": {},
   "outputs": [],
   "source": [
    "train_prob = fitted_model1.predict_proba(x_train)\n",
    "valid_prob = fitted_model1.predict_proba(x_valid)"
   ]
  },
  {
   "cell_type": "code",
   "execution_count": null,
   "metadata": {},
   "outputs": [],
   "source": []
  },
  {
   "cell_type": "code",
   "execution_count": 67,
   "metadata": {},
   "outputs": [],
   "source": [
    "train_acc = accuracy_score(y_true=y_train, y_pred=[np.argmax(e) for e in train_prob])\n",
    "valid_acc = accuracy_score(y_true=y_valid, y_pred=[np.argmax(e) for e in valid_prob])\n",
    "train_auc = roc_auc_score(y_true=y_train, y_score=train_prob[:,1])\n",
    "valid_auc = roc_auc_score(y_true=y_valid, y_score=valid_prob[:,1])"
   ]
  },
  {
   "cell_type": "code",
   "execution_count": 70,
   "metadata": {},
   "outputs": [
    {
     "name": "stdout",
     "output_type": "stream",
     "text": [
      "Train acc: 0.6651270207852193, valid acc: 0.5504587155963303\n",
      "Train_auc: 0.7845793374019181, valid_auc: 0.5645706558485464\n"
     ]
    }
   ],
   "source": [
    "print(f\"Train acc: {train_acc}, valid acc: {valid_acc}\\nTrain_auc: {train_auc}, valid_auc: {valid_auc}\")"
   ]
  }
 ],
 "metadata": {
  "kernelspec": {
   "display_name": "Python 3",
   "language": "python",
   "name": "python3"
  },
  "language_info": {
   "codemirror_mode": {
    "name": "ipython",
    "version": 3
   },
   "file_extension": ".py",
   "mimetype": "text/x-python",
   "name": "python",
   "nbconvert_exporter": "python",
   "pygments_lexer": "ipython3",
   "version": "3.6.9"
  }
 },
 "nbformat": 4,
 "nbformat_minor": 4
}
