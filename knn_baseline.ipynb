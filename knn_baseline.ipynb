{
 "cells": [
  {
   "cell_type": "markdown",
   "metadata": {},
   "source": [
    "# KNN benchmark\n",
    "\n",
    "This notebook repeats the KNN benchmark reported in Smith et al."
   ]
  },
  {
   "cell_type": "code",
   "execution_count": 1,
   "metadata": {},
   "outputs": [],
   "source": [
    "from collections import OrderedDict\n",
    "import os\n",
    "from pathlib import Path\n",
    "from time import time\n",
    "from tqdm import tqdm\n",
    "import matplotlib.pyplot as plt\n",
    "import numpy as np\n",
    "import pandas as pd\n",
    "import sklearn as skl\n",
    "from sklearn.model_selection import KFold, ParameterGrid\n",
    "from sklearn.neighbors import KNeighborsClassifier as KNN\n",
    "from sklearn.metrics import roc_auc_score, accuracy_score\n",
    "import torch\n",
    "from utilities import hdf_keys, NestedCV"
   ]
  },
  {
   "cell_type": "code",
   "execution_count": 2,
   "metadata": {},
   "outputs": [],
   "source": [
    "DATA_PATH = Path(\"/data/pfizer_tx\")"
   ]
  },
  {
   "cell_type": "markdown",
   "metadata": {},
   "source": [
    "Benchmark classification tasks only"
   ]
  },
  {
   "cell_type": "code",
   "execution_count": 3,
   "metadata": {},
   "outputs": [],
   "source": [
    "classification_strings = ['stage', 'grade', 'GSE']\n",
    "all_classification_files = [f for f in os.listdir(DATA_PATH/\"tasks_all_clr\")\\\n",
    "                            if any([e in f for e in classification_strings])]"
   ]
  },
  {
   "cell_type": "markdown",
   "metadata": {},
   "source": [
    "Work up a cross-validated classifier on a trial dataset: `all_clr_train_LUAD_stage.h5`"
   ]
  },
  {
   "cell_type": "code",
   "execution_count": 4,
   "metadata": {},
   "outputs": [
    {
     "data": {
      "text/plain": [
       "'all_clr_train_LUAD_stage.h5'"
      ]
     },
     "execution_count": 4,
     "metadata": {},
     "output_type": "execute_result"
    }
   ],
   "source": [
    "all_classification_files[0]"
   ]
  },
  {
   "cell_type": "code",
   "execution_count": 5,
   "metadata": {},
   "outputs": [
    {
     "name": "stdout",
     "output_type": "stream",
     "text": [
      "['/expression', '/labels']\n"
     ]
    }
   ],
   "source": [
    "test_data_path = DATA_PATH/\"tasks_all_clr\"/all_classification_files[0]\n",
    "keys = hdf_keys(test_data_path)\n",
    "print(keys)\n",
    "test_data = {key : pd.read_hdf(test_data_path, key = key) for key in keys}"
   ]
  },
  {
   "cell_type": "markdown",
   "metadata": {},
   "source": [
    "NestedCV is a class that takes a simple `model` function and a dict of hyperparameters.   \n",
    "The `model` function is a wrapper that instantiates a model object with a scikit learn interface."
   ]
  },
  {
   "cell_type": "code",
   "execution_count": 6,
   "metadata": {},
   "outputs": [],
   "source": [
    "hparams = dict()\n",
    "hparams['k'] = [1, 2, 3, 4, 5]\n",
    "\n",
    "def model(params):\n",
    "    return KNN(n_neighbors=params['k'], n_jobs=-1)"
   ]
  },
  {
   "cell_type": "code",
   "execution_count": 7,
   "metadata": {},
   "outputs": [
    {
     "name": "stdout",
     "output_type": "stream",
     "text": [
      "Number of inner splits (product of all hparam values): 5\n",
      "Fold 1\n",
      "Fitting model with params: {'k': 1}\n",
      "Fitting model with params: {'k': 2}\n",
      "Fitting model with params: {'k': 3}\n",
      "Fitting model with params: {'k': 4}\n",
      "Fitting model with params: {'k': 5}\n",
      "Best params: {'k': 5}, training final model\n",
      "Fold 2\n",
      "Fitting model with params: {'k': 1}\n",
      "Fitting model with params: {'k': 2}\n",
      "Fitting model with params: {'k': 3}\n",
      "Fitting model with params: {'k': 4}\n",
      "Fitting model with params: {'k': 5}\n",
      "Best params: {'k': 2}, training final model\n",
      "Fold 3\n",
      "Fitting model with params: {'k': 1}\n",
      "Fitting model with params: {'k': 2}\n",
      "Fitting model with params: {'k': 3}\n",
      "Fitting model with params: {'k': 4}\n",
      "Fitting model with params: {'k': 5}\n",
      "Best params: {'k': 5}, training final model\n",
      "Fold 4\n",
      "Fitting model with params: {'k': 1}\n",
      "Fitting model with params: {'k': 2}\n",
      "Fitting model with params: {'k': 3}\n",
      "Fitting model with params: {'k': 4}\n",
      "Fitting model with params: {'k': 5}\n",
      "Best params: {'k': 1}, training final model\n",
      "Fold 5\n",
      "Fitting model with params: {'k': 1}\n",
      "Fitting model with params: {'k': 2}\n",
      "Fitting model with params: {'k': 3}\n",
      "Fitting model with params: {'k': 4}\n",
      "Fitting model with params: {'k': 5}\n",
      "Best params: {'k': 3}, training final model\n",
      "Total time taken: 68.8549132347107\n",
      "Mean performance across 5 outer splits: 0.5627758332798098\n"
     ]
    }
   ],
   "source": [
    "nestedCV = NestedCV(model, hparams)\n",
    "performance, best_params = nestedCV.train(test_data['/expression'], test_data['/labels'])"
   ]
  },
  {
   "cell_type": "code",
   "execution_count": 13,
   "metadata": {},
   "outputs": [
    {
     "data": {
      "text/plain": [
       "[0.5322853279242732,\n",
       " 0.5125850340136054,\n",
       " 0.6399169837426496,\n",
       " 0.560341820718521,\n",
       " 0.5687500000000001]"
      ]
     },
     "execution_count": 13,
     "metadata": {},
     "output_type": "execute_result"
    }
   ],
   "source": [
    "performance"
   ]
  },
  {
   "cell_type": "code",
   "execution_count": 14,
   "metadata": {},
   "outputs": [
    {
     "data": {
      "image/png": "[encoded data removed]",
      "text/plain": [
       "<Figure size 432x288 with 1 Axes>"
      ]
     },
     "metadata": {
      "needs_background": "light"
     },
     "output_type": "display_data"
    }
   ],
   "source": [
    "plt.boxplot(performance);"
   ]
  },
  {
   "cell_type": "code",
   "execution_count": 15,
   "metadata": {},
   "outputs": [
    {
     "name": "stdout",
     "output_type": "stream",
     "text": [
      "Final average model performance: 0.5627758332798098\n",
      "Reported performance: 0.587241122\n"
     ]
    }
   ],
   "source": [
    "print(f\"Final average model performance: {np.mean(performance)}\")\n",
    "print(f\"Reported performance: {0.587241122}\")"
   ]
  },
  {
   "cell_type": "code",
   "execution_count": null,
   "metadata": {},
   "outputs": [],
   "source": []
  }
 ],
 "metadata": {
  "kernelspec": {
   "display_name": "Python 3",
   "language": "python",
   "name": "python3"
  },
  "language_info": {
   "codemirror_mode": {
    "name": "ipython",
    "version": 3
   },
   "file_extension": ".py",
   "mimetype": "text/x-python",
   "name": "python",
   "nbconvert_exporter": "python",
   "pygments_lexer": "ipython3",
   "version": "3.6.9"
  }
 },
 "nbformat": 4,
 "nbformat_minor": 4
}
