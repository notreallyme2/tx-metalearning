{
 "cells": [
  {
   "cell_type": "markdown",
   "metadata": {},
   "source": [
    "# KNN benchmark\n",
    "\n",
    "This notebook repeats the KNN benchmark reported in Smith et al."
   ]
  },
  {
   "cell_type": "code",
   "execution_count": 1,
   "metadata": {},
   "outputs": [],
   "source": [
    "from collections import OrderedDict\n",
    "import os\n",
    "from pathlib import Path\n",
    "from time import time\n",
    "from tqdm import tqdm\n",
    "import matplotlib.pyplot as plt\n",
    "import numpy as np\n",
    "import pandas as pd\n",
    "import sklearn as skl\n",
    "from sklearn.model_selection import KFold, ParameterGrid\n",
    "from sklearn.neighbors import KNeighborsClassifier as KNN\n",
    "from sklearn.metrics import roc_auc_score, accuracy_score\n",
    "import torch\n",
    "from utilities import hdf_keys"
   ]
  },
  {
   "cell_type": "code",
   "execution_count": 2,
   "metadata": {},
   "outputs": [],
   "source": [
    "DATA_PATH = Path(\"/data/pfizer_tx\")"
   ]
  },
  {
   "cell_type": "markdown",
   "metadata": {},
   "source": [
    "Benchmark classification tasks only"
   ]
  },
  {
   "cell_type": "code",
   "execution_count": 3,
   "metadata": {},
   "outputs": [],
   "source": [
    "classification_strings = ['stage', 'grade', 'GSE']\n",
    "all_classification_files = [f for f in os.listdir(DATA_PATH/\"tasks_all_clr\")\\\n",
    "                            if any([e in f for e in classification_strings])]"
   ]
  },
  {
   "cell_type": "markdown",
   "metadata": {},
   "source": [
    "Work up a cross-validated classifier on a trial dataset: `all_clr_train_LUAD_stage.h5`"
   ]
  },
  {
   "cell_type": "code",
   "execution_count": 4,
   "metadata": {},
   "outputs": [
    {
     "data": {
      "text/plain": [
       "'all_clr_train_LUAD_stage.h5'"
      ]
     },
     "execution_count": 4,
     "metadata": {},
     "output_type": "execute_result"
    }
   ],
   "source": [
    "all_classification_files[0]"
   ]
  },
  {
   "cell_type": "code",
   "execution_count": 5,
   "metadata": {},
   "outputs": [
    {
     "name": "stdout",
     "output_type": "stream",
     "text": [
      "['/expression', '/labels']\n"
     ]
    }
   ],
   "source": [
    "test_data_path = DATA_PATH/\"tasks_all_clr\"/all_classification_files[0]\n",
    "keys = hdf_keys(test_data_path)\n",
    "print(keys)\n",
    "test_data = {key : pd.read_hdf(test_data_path, key = key) for key in keys}"
   ]
  },
  {
   "cell_type": "code",
   "execution_count": 6,
   "metadata": {},
   "outputs": [],
   "source": [
    "def inner_func(input_x, input_y):\n",
    "    inner = KFold(n_splits=5)\n",
    "    k = [1, 3, 5, 7, 9] # matches the search used in the original paper\n",
    "    best_params = None\n",
    "    best_auc = 0.5\n",
    "    for idx, (t, v) in enumerate(inner.split(input_x)):\n",
    "        this_knn = KNN(n_neighbors=k[idx], n_jobs=-1)\n",
    "        x_train, y_train = input_x.iloc[t], input_y.iloc[t]\n",
    "        x_valid, y_valid = input_x.iloc[v], input_y.iloc[v]\n",
    "        print(f\"Fitting model with k: {k[idx]}\")\n",
    "        fitted_model = this_knn.fit(x_train, y_train)\n",
    "        valid_prob = fitted_model.predict_proba(x_valid)\n",
    "        valid_auc = roc_auc_score(y_true=y_valid, y_score=valid_prob[:,1])\n",
    "        if valid_auc > best_auc:\n",
    "            best_auc = valid_auc\n",
    "            best_k = k[idx]\n",
    "        # finally train on all the data and predict held out sample\n",
    "    print(f\"Best K: {best_k}, training final model\")\n",
    "    this_knn = KNN(n_neighbors=best_k, n_jobs=-1)\n",
    "    fitted_model = this_knn.fit(input_x, input_y)\n",
    "    return fitted_model"
   ]
  },
  {
   "cell_type": "markdown",
   "metadata": {},
   "source": [
    "Now train the outer loop"
   ]
  },
  {
   "cell_type": "code",
   "execution_count": 8,
   "metadata": {},
   "outputs": [
    {
     "name": "stdout",
     "output_type": "stream",
     "text": [
      "Fold 1\n",
      "Fitting model with k: 1\n",
      "Fitting model with k: 3\n",
      "Fitting model with k: 5\n",
      "Fitting model with k: 7\n",
      "Fitting model with k: 9\n",
      "Best K: 5, training final model\n",
      "Fold 2\n",
      "Fitting model with k: 1\n",
      "Fitting model with k: 3\n",
      "Fitting model with k: 5\n",
      "Fitting model with k: 7\n",
      "Fitting model with k: 9\n",
      "Best K: 3, training final model\n",
      "Fold 3\n",
      "Fitting model with k: 1\n",
      "Fitting model with k: 3\n",
      "Fitting model with k: 5\n",
      "Fitting model with k: 7\n",
      "Fitting model with k: 9\n",
      "Best K: 7, training final model\n",
      "Fold 4\n",
      "Fitting model with k: 1\n",
      "Fitting model with k: 3\n",
      "Fitting model with k: 5\n",
      "Fitting model with k: 7\n",
      "Fitting model with k: 9\n",
      "Best K: 7, training final model\n",
      "Fold 5\n",
      "Fitting model with k: 1\n",
      "Fitting model with k: 3\n",
      "Fitting model with k: 5\n",
      "Fitting model with k: 7\n",
      "Fitting model with k: 9\n",
      "Best K: 5, training final model\n"
     ]
    }
   ],
   "source": [
    "start = time()\n",
    "outer = KFold(n_splits=5); performance = []; best_k = []\n",
    "for idx, (t, v) in enumerate(outer.split(test_data[\"/expression\"])):\n",
    "    print(f\"Fold {idx+1}\")\n",
    "    x_train, y_train = test_data[\"/expression\"].iloc[t], test_data[\"/labels\"].iloc[t]\n",
    "    x_test, y_test = test_data[\"/expression\"].iloc[v], test_data[\"/labels\"].iloc[v]\n",
    "    this_model_outer = inner_func(x_train, y_train)\n",
    "    y_test_prob = this_model_outer.predict_proba(x_test)\n",
    "    performance.append(roc_auc_score(y_true=y_test, y_score=y_test_prob[:,1]))\n",
    "    best_k.append(this_model_outer.get_params()['n_neighbors'])\n",
    "time_taken = time() - start"
   ]
  },
  {
   "cell_type": "code",
   "execution_count": 9,
   "metadata": {},
   "outputs": [
    {
     "name": "stdout",
     "output_type": "stream",
     "text": [
      "Entire nested CV took 69.22485709190369 s to train\n"
     ]
    }
   ],
   "source": [
    "print(f\"Entire nested CV took {time_taken} s to train\")"
   ]
  },
  {
   "cell_type": "code",
   "execution_count": 10,
   "metadata": {},
   "outputs": [
    {
     "name": "stdout",
     "output_type": "stream",
     "text": [
      "(5, 0.5322853279242732)\n",
      "(3, 0.5372448979591836)\n",
      "(7, 0.6451054998270495)\n",
      "(7, 0.5305197070108126)\n",
      "(5, 0.5551470588235294)\n"
     ]
    }
   ],
   "source": [
    "[print(e) for e in zip(best_k, performance)];"
   ]
  },
  {
   "cell_type": "code",
   "execution_count": 11,
   "metadata": {},
   "outputs": [
    {
     "data": {
      "image/png": "[encoded data removed]",
      "text/plain": [
       "<Figure size 432x288 with 1 Axes>"
      ]
     },
     "metadata": {
      "needs_background": "light"
     },
     "output_type": "display_data"
    }
   ],
   "source": [
    "plt.boxplot(performance);"
   ]
  },
  {
   "cell_type": "code",
   "execution_count": 12,
   "metadata": {},
   "outputs": [
    {
     "name": "stdout",
     "output_type": "stream",
     "text": [
      "Final average model performance: 0.5600604983089696\n",
      "Reported performance: 0.587241122\n"
     ]
    }
   ],
   "source": [
    "print(f\"Final average model performance: {np.mean(performance)}\")\n",
    "print(f\"Reported performance: {0.587241122}\")"
   ]
  },
  {
   "cell_type": "markdown",
   "metadata": {},
   "source": [
    "Now try and turn this into a Class"
   ]
  },
  {
   "cell_type": "code",
   "execution_count": 83,
   "metadata": {},
   "outputs": [],
   "source": [
    "class NestedCV:\n",
    "    def __init__(self, model, hparams, n_splits_outer=5):\n",
    "        \"\"\"Nested cross validation class.\n",
    "        \n",
    "        Parameters\n",
    "        ----------\n",
    "        model : func\n",
    "                Must be a function which takes a single parameter - a dict containing its hyperparameters\n",
    "                It must return a trainable model with an skl API\n",
    "        hparams : dict\n",
    "                A dict containing all the hyperparameters to be tried\n",
    "        n_splits_outer : int\n",
    "                The number of splits in the outer loop\n",
    "                        \n",
    "        \"\"\"\n",
    "        self.model = model\n",
    "        self.hparams = hparams\n",
    "        self.n_splits_outer=5\n",
    "        self.n_splits_inner = np.prod([len(hparams[k]) for k in hparams])\n",
    "        print(f\"Number of inner splits (product of all hparam values): {self.n_splits_inner}\")\n",
    "        \n",
    "    def _inner_loop(self, input_x, input_y):\n",
    "        inner = KFold(n_splits=self.n_splits_inner)\n",
    "        params = ParameterGrid(self.hparams)\n",
    "        best_k = None\n",
    "        best_auc = 0.5\n",
    "        for idx, (t, v) in enumerate(inner.split(input_x)):\n",
    "            this_model = self.model(params[idx])\n",
    "            x_train, y_train = input_x.iloc[t], input_y.iloc[t]\n",
    "            x_valid, y_valid = input_x.iloc[v], input_y.iloc[v]\n",
    "            print(f\"Fitting model with params: {params[idx]}\")\n",
    "            fitted_model = this_model.fit(x_train, y_train)\n",
    "            valid_prob = fitted_model.predict_proba(x_valid)\n",
    "            valid_auc = roc_auc_score(y_true=y_valid, y_score=valid_prob[:,1])\n",
    "            if valid_auc > best_auc:\n",
    "                best_auc = valid_auc\n",
    "                best_k = k[idx]\n",
    "            # finally train on all the data and predict held out sample\n",
    "        print(f\"Best params: {best_params}, training final model\")\n",
    "        this_model = self.model(best_params)\n",
    "        fitted_model = this_model.fit(input_x, input_y)\n",
    "        return fitted_model\n",
    "    \n",
    "    def _outer_loop(self, X, Y):\n",
    "        start = time()\n",
    "        outer = KFold(n_splits=self.n_splits_outer)\n",
    "        performance = []\n",
    "        best_params = []\n",
    "        for idx, (t, v) in enumerate(outer.split(X)):\n",
    "            print(f\"Fold {idx+1}\")\n",
    "            x_train, y_train = X.iloc[t], Y.iloc[t]\n",
    "            x_test, y_test = X.iloc[v], Y.iloc[v]\n",
    "            this_model_outer = self._inner_loop(x_train, y_train)\n",
    "            y_test_prob = this_model_outer.predict_proba(x_test)\n",
    "            performance.append(roc_auc_score(y_true=y_test, y_score=y_test_prob[:,1]))\n",
    "            best_params.append(this_model_outer.get_params())\n",
    "        time_taken = time() - start\n",
    "        return(performance, best_params, time_taken)\n",
    "    \n",
    "    def train(self, X, Y):\n",
    "        performance, best_params, time_taken = self._outer_loop(X, Y)\n",
    "        print(f\"Total time taken: {time_taken}\")\n",
    "        print(f\"Mean performance across {n_splits_outer} outer splits: {np.mean(performance)}\")\n",
    "        return performance, best_params\n",
    "    "
   ]
  },
  {
   "cell_type": "code",
   "execution_count": 84,
   "metadata": {},
   "outputs": [],
   "source": [
    "hparams = dict()\n",
    "hparams['k'] = [1, 2, 3, 4, 5]\n",
    "\n",
    "def model(params):\n",
    "    return KNN(n_neighbors=params['k'], n_jobs=-1)\n",
    "\n",
    "nestedCV = NestedCV(model, hparams)\n",
    "\n",
    "nestedCV.train(test_data['/expression'], test_data['/labels'])"
   ]
  }
 ],
 "metadata": {
  "kernelspec": {
   "display_name": "Python 3",
   "language": "python",
   "name": "python3"
  },
  "language_info": {
   "codemirror_mode": {
    "name": "ipython",
    "version": 3
   },
   "file_extension": ".py",
   "mimetype": "text/x-python",
   "name": "python",
   "nbconvert_exporter": "python",
   "pygments_lexer": "ipython3",
   "version": "3.6.9"
  }
 },
 "nbformat": 4,
 "nbformat_minor": 4
}
