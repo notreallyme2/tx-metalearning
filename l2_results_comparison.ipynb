{
 "cells": [
  {
   "cell_type": "markdown",
   "metadata": {},
   "source": [
    "# KNN Results Comparison"
   ]
  },
  {
   "cell_type": "code",
   "execution_count": 1,
   "metadata": {},
   "outputs": [],
   "source": [
    "import matplotlib.pyplot as plt\n",
    "import os\n",
    "import pandas as pd\n",
    "import seaborn as sns"
   ]
  },
  {
   "cell_type": "code",
   "execution_count": 2,
   "metadata": {},
   "outputs": [],
   "source": [
    "smith_results = pd.read_csv(\"./results/representation_learning_transcriptomics_results.csv\")\n",
    "tcga_classification_tasks = pd.read_csv(\"./data_utilities/tcga_classification_tasks.csv\")"
   ]
  },
  {
   "cell_type": "code",
   "execution_count": 3,
   "metadata": {},
   "outputs": [],
   "source": [
    "binary = smith_results['label_type'] == 'binary'\n",
    "l2 = smith_results['supervised_model'] == 'logistic regression'\n",
    "no_embedding = smith_results['unsupervised_model'] == 'no embedding'\n",
    "gene_set = smith_results['gene_set'] == 'all'\n",
    "norm = smith_results['normalization'] == 'clr'\n",
    "tcga = [\"GSE\" not in e for e in smith_results['task']]"
   ]
  },
  {
   "cell_type": "code",
   "execution_count": 4,
   "metadata": {},
   "outputs": [],
   "source": [
    "tcga_results_smith = smith_results[binary & no_embedding & gene_set & norm & tcga & l2].copy()"
   ]
  },
  {
   "cell_type": "code",
   "execution_count": 5,
   "metadata": {},
   "outputs": [
    {
     "data": {
      "text/plain": [
       "(18, 13)"
      ]
     },
     "execution_count": 5,
     "metadata": {},
     "output_type": "execute_result"
    }
   ],
   "source": [
    "tcga_results_smith.shape"
   ]
  },
  {
   "cell_type": "code",
   "execution_count": 12,
   "metadata": {},
   "outputs": [
    {
     "data": {
      "text/html": [
       "<div>\n",
       "<style scoped>\n",
       "    .dataframe tbody tr th:only-of-type {\n",
       "        vertical-align: middle;\n",
       "    }\n",
       "\n",
       "    .dataframe tbody tr th {\n",
       "        vertical-align: top;\n",
       "    }\n",
       "\n",
       "    .dataframe thead th {\n",
       "        text-align: right;\n",
       "    }\n",
       "</style>\n",
       "<table border=\"1\" class=\"dataframe\">\n",
       "  <thead>\n",
       "    <tr style=\"text-align: right;\">\n",
       "      <th></th>\n",
       "      <th>unsupervised_model</th>\n",
       "      <th>supervised_model</th>\n",
       "      <th>gene_set</th>\n",
       "      <th>normalization</th>\n",
       "      <th>task</th>\n",
       "      <th>group</th>\n",
       "      <th>label_type</th>\n",
       "      <th>num_genes</th>\n",
       "      <th>num_features</th>\n",
       "      <th>num_samples</th>\n",
       "      <th>num_classes</th>\n",
       "      <th>score</th>\n",
       "      <th>score_units</th>\n",
       "    </tr>\n",
       "  </thead>\n",
       "  <tbody>\n",
       "    <tr>\n",
       "      <th>29</th>\n",
       "      <td>no embedding</td>\n",
       "      <td>logistic regression</td>\n",
       "      <td>all</td>\n",
       "      <td>clr</td>\n",
       "      <td>BRCA stage</td>\n",
       "      <td>test</td>\n",
       "      <td>binary</td>\n",
       "      <td>57992</td>\n",
       "      <td>57992</td>\n",
       "      <td>1134</td>\n",
       "      <td>2</td>\n",
       "      <td>0.625216</td>\n",
       "      <td>AUC</td>\n",
       "    </tr>\n",
       "    <tr>\n",
       "      <th>34</th>\n",
       "      <td>no embedding</td>\n",
       "      <td>logistic regression</td>\n",
       "      <td>all</td>\n",
       "      <td>clr</td>\n",
       "      <td>CESC grade</td>\n",
       "      <td>train</td>\n",
       "      <td>binary</td>\n",
       "      <td>57992</td>\n",
       "      <td>57992</td>\n",
       "      <td>306</td>\n",
       "      <td>2</td>\n",
       "      <td>0.707146</td>\n",
       "      <td>AUC</td>\n",
       "    </tr>\n",
       "    <tr>\n",
       "      <th>36</th>\n",
       "      <td>no embedding</td>\n",
       "      <td>logistic regression</td>\n",
       "      <td>all</td>\n",
       "      <td>clr</td>\n",
       "      <td>COAD stage</td>\n",
       "      <td>train</td>\n",
       "      <td>binary</td>\n",
       "      <td>57992</td>\n",
       "      <td>57992</td>\n",
       "      <td>505</td>\n",
       "      <td>2</td>\n",
       "      <td>0.686547</td>\n",
       "      <td>AUC</td>\n",
       "    </tr>\n",
       "    <tr>\n",
       "      <th>38</th>\n",
       "      <td>no embedding</td>\n",
       "      <td>logistic regression</td>\n",
       "      <td>all</td>\n",
       "      <td>clr</td>\n",
       "      <td>HNSC grade</td>\n",
       "      <td>test</td>\n",
       "      <td>binary</td>\n",
       "      <td>57992</td>\n",
       "      <td>57992</td>\n",
       "      <td>504</td>\n",
       "      <td>2</td>\n",
       "      <td>0.698141</td>\n",
       "      <td>AUC</td>\n",
       "    </tr>\n",
       "    <tr>\n",
       "      <th>26</th>\n",
       "      <td>no embedding</td>\n",
       "      <td>logistic regression</td>\n",
       "      <td>all</td>\n",
       "      <td>clr</td>\n",
       "      <td>KIRC grade</td>\n",
       "      <td>train</td>\n",
       "      <td>binary</td>\n",
       "      <td>57992</td>\n",
       "      <td>57992</td>\n",
       "      <td>544</td>\n",
       "      <td>2</td>\n",
       "      <td>0.593343</td>\n",
       "      <td>AUC</td>\n",
       "    </tr>\n",
       "  </tbody>\n",
       "</table>\n",
       "</div>"
      ],
      "text/plain": [
       "   unsupervised_model     supervised_model gene_set normalization        task  \\\n",
       "29       no embedding  logistic regression      all           clr  BRCA stage   \n",
       "34       no embedding  logistic regression      all           clr  CESC grade   \n",
       "36       no embedding  logistic regression      all           clr  COAD stage   \n",
       "38       no embedding  logistic regression      all           clr  HNSC grade   \n",
       "26       no embedding  logistic regression      all           clr  KIRC grade   \n",
       "\n",
       "    group label_type  num_genes  num_features  num_samples  num_classes  \\\n",
       "29   test     binary      57992         57992         1134            2   \n",
       "34  train     binary      57992         57992          306            2   \n",
       "36  train     binary      57992         57992          505            2   \n",
       "38   test     binary      57992         57992          504            2   \n",
       "26  train     binary      57992         57992          544            2   \n",
       "\n",
       "       score score_units  \n",
       "29  0.625216         AUC  \n",
       "34  0.707146         AUC  \n",
       "36  0.686547         AUC  \n",
       "38  0.698141         AUC  \n",
       "26  0.593343         AUC  "
      ]
     },
     "execution_count": 12,
     "metadata": {},
     "output_type": "execute_result"
    }
   ],
   "source": [
    "tcga_results_smith.sort_values(by='task', inplace=True)\n",
    "tcga_results_smith.head(5)"
   ]
  },
  {
   "cell_type": "markdown",
   "metadata": {},
   "source": [
    "### Now load the results files"
   ]
  },
  {
   "cell_type": "code",
   "execution_count": 7,
   "metadata": {},
   "outputs": [],
   "source": [
    "filenames = os.listdir(\"./results/l2\")\n",
    "results = [pd.read_csv(f\"./results/l2/{f}\") for f in filenames]"
   ]
  },
  {
   "cell_type": "code",
   "execution_count": 8,
   "metadata": {},
   "outputs": [],
   "source": [
    "mean_performance = [r['auc'].mean() for r in results]\n",
    "tasks = [\" \".join(f.split('_')[3:5]) for f in filenames]"
   ]
  },
  {
   "cell_type": "code",
   "execution_count": 9,
   "metadata": {},
   "outputs": [],
   "source": [
    "aggregated_results = pd.DataFrame()\n",
    "aggregated_results['results'] = mean_performance\n",
    "aggregated_results['task'] = tasks"
   ]
  },
  {
   "cell_type": "code",
   "execution_count": 13,
   "metadata": {},
   "outputs": [
    {
     "data": {
      "text/html": [
       "<div>\n",
       "<style scoped>\n",
       "    .dataframe tbody tr th:only-of-type {\n",
       "        vertical-align: middle;\n",
       "    }\n",
       "\n",
       "    .dataframe tbody tr th {\n",
       "        vertical-align: top;\n",
       "    }\n",
       "\n",
       "    .dataframe thead th {\n",
       "        text-align: right;\n",
       "    }\n",
       "</style>\n",
       "<table border=\"1\" class=\"dataframe\">\n",
       "  <thead>\n",
       "    <tr style=\"text-align: right;\">\n",
       "      <th></th>\n",
       "      <th>results</th>\n",
       "      <th>task</th>\n",
       "    </tr>\n",
       "  </thead>\n",
       "  <tbody>\n",
       "    <tr>\n",
       "      <th>13</th>\n",
       "      <td>0.638739</td>\n",
       "      <td>BRCA stage</td>\n",
       "    </tr>\n",
       "    <tr>\n",
       "      <th>17</th>\n",
       "      <td>0.716149</td>\n",
       "      <td>CESC grade</td>\n",
       "    </tr>\n",
       "    <tr>\n",
       "      <th>15</th>\n",
       "      <td>0.693919</td>\n",
       "      <td>COAD stage</td>\n",
       "    </tr>\n",
       "    <tr>\n",
       "      <th>7</th>\n",
       "      <td>0.744992</td>\n",
       "      <td>HNSC grade</td>\n",
       "    </tr>\n",
       "    <tr>\n",
       "      <th>12</th>\n",
       "      <td>0.637256</td>\n",
       "      <td>KIRC grade</td>\n",
       "    </tr>\n",
       "  </tbody>\n",
       "</table>\n",
       "</div>"
      ],
      "text/plain": [
       "     results        task\n",
       "13  0.638739  BRCA stage\n",
       "17  0.716149  CESC grade\n",
       "15  0.693919  COAD stage\n",
       "7   0.744992  HNSC grade\n",
       "12  0.637256  KIRC grade"
      ]
     },
     "execution_count": 13,
     "metadata": {},
     "output_type": "execute_result"
    }
   ],
   "source": [
    "aggregated_results.sort_values(by='task', inplace=True)\n",
    "aggregated_results.head(5)"
   ]
  },
  {
   "cell_type": "code",
   "execution_count": 14,
   "metadata": {},
   "outputs": [],
   "source": [
    "# check they are aligned correctly\n",
    "assert(all( [a == b for a,b in zip(aggregated_results['task'], tcga_results_smith['task'])] ))"
   ]
  },
  {
   "cell_type": "code",
   "execution_count": 16,
   "metadata": {},
   "outputs": [],
   "source": [
    "sns_data = pd.DataFrame()\n",
    "sns_data['Task'] = aggregated_results['task'].values\n",
    "sns_data['OurResults'] = aggregated_results['results'].values\n",
    "sns_data['SmithResults'] = tcga_results_smith['score'].values"
   ]
  },
  {
   "cell_type": "code",
   "execution_count": 27,
   "metadata": {},
   "outputs": [
    {
     "data": {
      "image/png": "[encoded data removed]",
      "text/plain": [
       "<Figure size 576x432 with 1 Axes>"
      ]
     },
     "metadata": {
      "needs_background": "light"
     },
     "output_type": "display_data"
    }
   ],
   "source": [
    "plt.rcParams['figure.figsize'] = 8.0, 6.0\n",
    "plt.rcParams['font.size'] = 12.0\n",
    "sns.regplot(data=sns_data, x=\"SmithResults\", y=\"OurResults\")\n",
    "plt.title('Results comparison for L2 logistic regression');"
   ]
  },
  {
   "cell_type": "code",
   "execution_count": 24,
   "metadata": {},
   "outputs": [],
   "source": [
    "# test for bias\n",
    "from scipy.stats import ttest_rel, describe"
   ]
  },
  {
   "cell_type": "code",
   "execution_count": 50,
   "metadata": {},
   "outputs": [
    {
     "data": {
      "text/plain": [
       "Ttest_relResult(statistic=1.6176866828040724, pvalue=0.12413307453914182)"
      ]
     },
     "execution_count": 50,
     "metadata": {},
     "output_type": "execute_result"
    }
   ],
   "source": [
    "ttest_rel(a=sns_data['OurResults'], b=sns_data['SmithResults'])"
   ]
  },
  {
   "cell_type": "code",
   "execution_count": 21,
   "metadata": {},
   "outputs": [],
   "source": [
    "# no bias present"
   ]
  },
  {
   "cell_type": "code",
   "execution_count": 48,
   "metadata": {},
   "outputs": [],
   "source": [
    "sns_data['Differences'] = sns_data['OurResults'] - sns_data['SmithResults']\n",
    "describe(sns_data['Differences'])\n",
    "sns_data.sort_values(by='Differences', inplace=True)"
   ]
  },
  {
   "cell_type": "code",
   "execution_count": 51,
   "metadata": {},
   "outputs": [
    {
     "data": {
      "image/png": "[encoded data removed]",
      "text/plain": [
       "<Figure size 576x432 with 1 Axes>"
      ]
     },
     "metadata": {
      "needs_background": "light"
     },
     "output_type": "display_data"
    }
   ],
   "source": [
    "plt.scatter(x=sns_data['Task'], y=sns_data['Differences'])\n",
    "plt.hlines(y=0, xmin=0, xmax=n_obs, colors='r')\n",
    "plt.xticks(rotation=90);\n",
    "plt.title(\"Differences between performance estimates for L2\");"
   ]
  },
  {
   "cell_type": "code",
   "execution_count": null,
   "metadata": {},
   "outputs": [],
   "source": []
  }
 ],
 "metadata": {
  "kernelspec": {
   "display_name": "Python 3",
   "language": "python",
   "name": "python3"
  },
  "language_info": {
   "codemirror_mode": {
    "name": "ipython",
    "version": 3
   },
   "file_extension": ".py",
   "mimetype": "text/x-python",
   "name": "python",
   "nbconvert_exporter": "python",
   "pygments_lexer": "ipython3",
   "version": "3.6.9"
  }
 },
 "nbformat": 4,
 "nbformat_minor": 4
}
